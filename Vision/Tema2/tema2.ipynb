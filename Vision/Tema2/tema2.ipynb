{
 "cells": [
  {
   "cell_type": "markdown",
   "metadata": {},
   "source": [
    "# Proiect 2 CAVA - Moroianu Theodor - 334"
   ]
  },
  {
   "cell_type": "code",
   "execution_count": 1,
   "metadata": {},
   "outputs": [],
   "source": [
    "# Enable auto-reload of modules.\n",
    "%load_ext autoreload\n",
    "%autoreload 2\n",
    "%reload_ext autoreload"
   ]
  },
  {
   "cell_type": "code",
   "execution_count": 2,
   "metadata": {},
   "outputs": [],
   "source": [
    "# Import sources.\n",
    "import sources.generate_dataset as generate_dataset\n",
    "import sources.network_pytorch as network\n",
    "import sources.solver as solver"
   ]
  },
  {
   "cell_type": "code",
   "execution_count": 4,
   "metadata": {},
   "outputs": [
    {
     "name": "stdout",
     "output_type": "stream",
     "text": [
      "Processing images...\n"
     ]
    },
    {
     "name": "stderr",
     "output_type": "stream",
     "text": [
      "  0%|          | 0/200 [00:00<?, ?it/s]"
     ]
    },
    {
     "name": "stdout",
     "output_type": "stream",
     "text": [
      "Model loaded from memory!\n"
     ]
    },
    {
     "name": "stderr",
     "output_type": "stream",
     "text": [
      "100%|██████████| 200/200 [1:06:03<00:00, 19.82s/it]\n"
     ]
    },
    {
     "name": "stdout",
     "output_type": "stream",
     "text": [
      "Sample detection: ('bart_simpson_0.jpg', (((15, 35), (86, 106)), 0.9999997623556283))\n"
     ]
    }
   ],
   "source": [
    "# Solves the task, asuming that:\n",
    "#   1. The model weigths (model/model.th) exist, or\n",
    "#   2. There is a dataset available at network_dataset and outsider_dataset.\n",
    "solver.solve(\"validare/simpsons_validare/\", \"evaluare/fisiere_solutie/Moroianu_Theodor_334/\")"
   ]
  },
  {
   "cell_type": "code",
   "execution_count": null,
   "metadata": {},
   "outputs": [],
   "source": [
    "# This trains the model.\n",
    "\n",
    "# DO NOT RUN THIS!!!\n",
    "\n",
    "network.train_model(lr=1e-5, NR_EPOCHS=30)"
   ]
  },
  {
   "cell_type": "code",
   "execution_count": null,
   "metadata": {},
   "outputs": [],
   "source": [
    "# This generates the dataset.\n",
    "\n",
    "# DO NOT RUN THIS!!\n",
    "\n",
    "generate_dataset.generate_dataset()"
   ]
  },
  {
   "cell_type": "code",
   "execution_count": null,
   "metadata": {},
   "outputs": [],
   "source": []
  }
 ],
 "metadata": {
  "interpreter": {
   "hash": "9f4aa4478d175579f83eaf1cc1322b217241d8ccdf84fcbd0d0080ee8bf8a48e"
  },
  "kernelspec": {
   "display_name": "Python 3.8.8 64-bit ('base': conda)",
   "language": "python",
   "name": "python3"
  },
  "language_info": {
   "codemirror_mode": {
    "name": "ipython",
    "version": 3
   },
   "file_extension": ".py",
   "mimetype": "text/x-python",
   "name": "python",
   "nbconvert_exporter": "python",
   "pygments_lexer": "ipython3",
   "version": "3.8.8"
  },
  "orig_nbformat": 4
 },
 "nbformat": 4,
 "nbformat_minor": 2
}
