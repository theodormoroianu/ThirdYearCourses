{
 "cells": [
  {
   "cell_type": "markdown",
   "metadata": {},
   "source": [
    "# Project 1 CAVA\n",
    "_Theodor Moroianu - 334_ "
   ]
  },
  {
   "cell_type": "code",
   "execution_count": 1,
   "metadata": {},
   "outputs": [],
   "source": [
    "# Enable auto-reload of modules\n",
    "%load_ext autoreload\n",
    "%autoreload 2\n",
    "%reload_ext autoreload"
   ]
  },
  {
   "cell_type": "code",
   "execution_count": 1,
   "metadata": {},
   "outputs": [],
   "source": [
    "# import python solver\n",
    "import src.solver as solver\n",
    "import src.constants as constants\n",
    "\n",
    "# disable debug\n",
    "constants.DEBUG = False\n",
    "\n",
    "# specify input folder\n",
    "# change this to the folder the images to solve are located in\n",
    "constants.INPUT_PATH = \"evaluare/fake_test/\"\n",
    "\n",
    "# specify output folder\n",
    "constants.OUTPUT_PATH = \"evaluare/fisiere_solutie/Moroianu_Theodor_334/\"\n"
   ]
  },
  {
   "cell_type": "code",
   "execution_count": 2,
   "metadata": {},
   "outputs": [
    {
     "name": "stdout",
     "output_type": "stream",
     "text": [
      "Loaded model from disk...\n",
      "Processed classic image 01.jpg\n",
      "Processed classic image 02.jpg\n",
      "Processed classic image 03.jpg\n",
      "Processed classic image 04.jpg\n",
      "Processed classic image 05.jpg\n",
      "Processed classic image 06.jpg\n",
      "Processed classic image 07.jpg\n",
      "Processed classic image 08.jpg\n",
      "Processed classic image 09.jpg\n",
      "Processed classic image 10.jpg\n",
      "Processed classic image 11.jpg\n",
      "Processed classic image 12.jpg\n",
      "Processed classic image 13.jpg\n",
      "Processed classic image 14.jpg\n",
      "Processed classic image 15.jpg\n",
      "Processed classic image 16.jpg\n",
      "Processed classic image 17.jpg\n",
      "Processed classic image 18.jpg\n",
      "Processed classic image 19.jpg\n",
      "Processed classic image 20.jpg\n",
      "Processed jigsaw image 01.jpg\n",
      "Processed jigsaw image 02.jpg\n",
      "Processed jigsaw image 03.jpg\n",
      "Processed jigsaw image 04.jpg\n",
      "Processed jigsaw image 05.jpg\n",
      "Processed jigsaw image 06.jpg\n",
      "Processed jigsaw image 07.jpg\n",
      "Processed jigsaw image 08.jpg\n",
      "Processed jigsaw image 09.jpg\n",
      "Processed jigsaw image 10.jpg\n",
      "Processed jigsaw image 11.jpg\n",
      "Processed jigsaw image 12.jpg\n",
      "Processed jigsaw image 13.jpg\n",
      "Processed jigsaw image 14.jpg\n",
      "Processed jigsaw image 15.jpg\n",
      "Processed jigsaw image 16.jpg\n",
      "Processed jigsaw image 17.jpg\n",
      "Processed jigsaw image 18.jpg\n",
      "Processed jigsaw image 19.jpg\n",
      "Processed jigsaw image 20.jpg\n",
      "Processed jigsaw image 21.jpg\n",
      "Processed jigsaw image 22.jpg\n",
      "Processed jigsaw image 23.jpg\n",
      "Processed jigsaw image 24.jpg\n",
      "Processed jigsaw image 25.jpg\n",
      "Processed jigsaw image 26.jpg\n",
      "Processed jigsaw image 27.jpg\n",
      "Processed jigsaw image 28.jpg\n",
      "Processed jigsaw image 29.jpg\n",
      "Processed jigsaw image 30.jpg\n",
      "Processed jigsaw image 31.jpg\n",
      "Processed jigsaw image 32.jpg\n",
      "Processed jigsaw image 33.jpg\n",
      "Processed jigsaw image 34.jpg\n",
      "Processed jigsaw image 35.jpg\n",
      "Processed jigsaw image 36.jpg\n",
      "Processed jigsaw image 37.jpg\n",
      "Processed jigsaw image 38.jpg\n",
      "Processed jigsaw image 39.jpg\n",
      "Processed jigsaw image 40.jpg\n"
     ]
    }
   ],
   "source": [
    "# run the code\n",
    "solver.solve()"
   ]
  },
  {
   "cell_type": "code",
   "execution_count": 4,
   "metadata": {},
   "outputs": [
    {
     "name": "stdout",
     "output_type": "stream",
     "text": [
      "1 0.2 1 0.025\n",
      "1 0.1 1 0.025\n"
     ]
    }
   ],
   "source": [
    "# check the accuracy\n",
    "!python evaluare/cod_evaluare/evalueaza_solutie.py"
   ]
  },
  {
   "cell_type": "code",
   "execution_count": null,
   "metadata": {},
   "outputs": [],
   "source": []
  }
 ],
 "metadata": {
  "interpreter": {
   "hash": "9f4aa4478d175579f83eaf1cc1322b217241d8ccdf84fcbd0d0080ee8bf8a48e"
  },
  "kernelspec": {
   "display_name": "Python 3.8.8 64-bit ('base': conda)",
   "name": "python3"
  },
  "language_info": {
   "codemirror_mode": {
    "name": "ipython",
    "version": 3
   },
   "file_extension": ".py",
   "mimetype": "text/x-python",
   "name": "python",
   "nbconvert_exporter": "python",
   "pygments_lexer": "ipython3",
   "version": "3.8.8"
  },
  "orig_nbformat": 4
 },
 "nbformat": 4,
 "nbformat_minor": 2
}
