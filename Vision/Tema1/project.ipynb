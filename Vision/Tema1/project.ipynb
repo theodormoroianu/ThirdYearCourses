{
 "cells": [
  {
   "cell_type": "markdown",
   "metadata": {},
   "source": [
    "# Project 1 CAVA\n",
    "_Theodor Moroianu - 334_ "
   ]
  },
  {
   "cell_type": "code",
   "execution_count": 36,
   "metadata": {},
   "outputs": [
    {
     "name": "stdout",
     "output_type": "stream",
     "text": [
      "The autoreload extension is already loaded. To reload it, use:\n",
      "  %reload_ext autoreload\n"
     ]
    }
   ],
   "source": [
    "%load_ext autoreload\n",
    "%autoreload 2\n",
    "%reload_ext autoreload\n",
    "\n",
    "import numpy as np\n",
    "import matplotlib.pyplot as plt\n",
    "import cv2 as cv\n",
    "import src.square_extractor as sq_extractor\n",
    "import src.constants = as constants\n",
    "\n",
    "CLASSIC_IMAGE_PATH = \"antrenare/clasic/\"\n",
    "JIGSAW_IMAGE_PATH = \"antrenare/jigsaw/\"\n",
    "\n",
    "NUM_CLASSIC = 20\n",
    "NUM_JIGSAW = 40"
   ]
  },
  {
   "cell_type": "code",
   "execution_count": 40,
   "metadata": {},
   "outputs": [
    {
     "name": "stdout",
     "output_type": "stream",
     "text": [
      "(4, 2)\n"
     ]
    }
   ],
   "source": [
    "img = cv.imread(CLASSIC_IMAGE_PATH + \"02.jpg\")\n",
    "\n",
    "sq_extractor.extract_square_from_image(img)"
   ]
  },
  {
   "cell_type": "code",
   "execution_count": null,
   "metadata": {},
   "outputs": [],
   "source": [
    "constants.DEBUG = False\n",
    "\n",
    "def name(i):\n",
    "    return f\"{i // 10}{i % 10}.jpg\"\n",
    "\n",
    "for i in range(1, 41):\n",
    "    if i <= NUM_CLASSIC:\n",
    "        img = cv.imread(CLASSIC_IMAGE_PATH + name(i))\n",
    "        square = sq_extractor.extract_square_from_image(img)\n",
    "        cv.imwrite(f\"Classic #{i}\", square)\n",
    "    if i <= NUM_JIGSAW:\n",
    "        img = cv.imread(JIGSAW_IMAGE_PATH + name(i))\n",
    "        square = sq_extractor.extract_square_from_image(img)\n",
    "        cv.imwrite(f\"Jigsaw #{i}\", square)\n",
    "    \n"
   ]
  }
 ],
 "metadata": {
  "interpreter": {
   "hash": "9f4aa4478d175579f83eaf1cc1322b217241d8ccdf84fcbd0d0080ee8bf8a48e"
  },
  "kernelspec": {
   "display_name": "Python 3.8.8 64-bit ('base': conda)",
   "name": "python3"
  },
  "language_info": {
   "codemirror_mode": {
    "name": "ipython",
    "version": 3
   },
   "file_extension": ".py",
   "mimetype": "text/x-python",
   "name": "python",
   "nbconvert_exporter": "python",
   "pygments_lexer": "ipython3",
   "version": "3.8.8"
  },
  "orig_nbformat": 4
 },
 "nbformat": 4,
 "nbformat_minor": 2
}
