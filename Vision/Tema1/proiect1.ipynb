{
 "cells": [
  {
   "cell_type": "code",
   "execution_count": 1,
   "metadata": {},
   "outputs": [],
   "source": [
    "%load_ext autoreload\n",
    "%autoreload 2\n",
    "%reload_ext autoreload"
   ]
  },
  {
   "cell_type": "code",
   "execution_count": 1,
   "id": "c1fe900c",
   "metadata": {},
   "outputs": [],
   "source": [
    "import cv2 as cv\n",
    "import numpy as np\n",
    "import matplotlib.pyplot as plt"
   ]
  },
  {
   "cell_type": "code",
   "execution_count": 2,
   "id": "e573e226",
   "metadata": {},
   "outputs": [],
   "source": [
    "# sdfds\n",
    "def show_image(title,image):\n",
    "    # plt.imshow(image)\n",
    "    # plt.show()\n",
    "    # return\n",
    "    cv.imshow(title,image)\n",
    "    cv.waitKey(0)\n",
    "    cv.destroyAllWindows()"
   ]
  },
  {
   "cell_type": "code",
   "execution_count": 9,
   "id": "f9505439",
   "metadata": {},
   "outputs": [],
   "source": [
    "def preprocess_image(image):\n",
    "    image = cv.cvtColor(image,cv.COLOR_BGR2GRAY)\n",
    "    image_m_blur = cv.medianBlur(image,5)\n",
    "    image_g_blur = cv.GaussianBlur(image_m_blur, (0, 0), 5) \n",
    "    image_sharpened = cv.addWeighted(image_m_blur, 1.2, image_g_blur, -0.8, 0)\n",
    "    _, thresh = cv.threshold(image_sharpened, 20, 255, cv.THRESH_BINARY)\n",
    "\n",
    "    \n",
    "    kernel = np.ones((5, 5), np.uint8)\n",
    "    thresh = cv.erode(thresh, kernel)\n",
    "    \n",
    "    show_image(\"median blurred\",image_m_blur)\n",
    "    show_image(\"gaussian blurred\",image_g_blur)\n",
    "    show_image(\"sharpened\",image_sharpened)    \n",
    "    show_image(\"threshold of blur\",thresh)\n",
    "    \n",
    "    edges =  cv.Canny(thresh ,150,400)\n",
    "    contours, _ = cv.findContours(edges,  cv.RETR_EXTERNAL, cv.CHAIN_APPROX_SIMPLE)\n",
    "    max_area = 0\n",
    "\n",
    "    show_image(\"Edges\", edges)\n",
    "   \n",
    "   \n",
    "    for i in range(len(contours)):\n",
    "        if(len(contours[i]) >3):\n",
    "            possible_top_left = None\n",
    "            possible_bottom_right = None\n",
    "            for point in contours[i].squeeze():\n",
    "                if possible_top_left is None or point[0] + point[1] < possible_top_left[0] + possible_top_left[1]:\n",
    "                    possible_top_left = point\n",
    "\n",
    "                if possible_bottom_right is None or point[0] + point[1] > possible_bottom_right[0] + possible_bottom_right[1] :\n",
    "                    possible_bottom_right = point\n",
    "\n",
    "            diff = np.diff(contours[i].squeeze(), axis = 1)\n",
    "            possible_top_right = contours[i].squeeze()[np.argmin(diff)]\n",
    "            possible_bottom_left = contours[i].squeeze()[np.argmax(diff)]\n",
    "            if cv.contourArea(np.array([[possible_top_left],[possible_top_right],[possible_bottom_right],[possible_bottom_left]])) > max_area:\n",
    "                max_area = cv.contourArea(np.array([[possible_top_left],[possible_top_right],[possible_bottom_right],[possible_bottom_left]]))\n",
    "                top_left = possible_top_left\n",
    "                bottom_right = possible_bottom_right\n",
    "                top_right = possible_top_right\n",
    "                bottom_left = possible_bottom_left\n",
    "\n",
    "    width = 500\n",
    "    height = 500\n",
    "    \n",
    "    image_copy = cv.cvtColor(image.copy(),cv.COLOR_GRAY2BGR)\n",
    "    cv.circle(image_copy,tuple(top_left),4,(0,0,255),-1)\n",
    "    cv.circle(image_copy,tuple(top_right),4,(0,0,255),-1)\n",
    "    cv.circle(image_copy,tuple(bottom_left),4,(0,0,255),-1)\n",
    "    cv.circle(image_copy,tuple(bottom_right),4,(0,0,255),-1)\n",
    "    show_image(\"detected corners\",image_copy)\n",
    "    \n",
    "    return top_left,top_right,bottom_left,bottom_right"
   ]
  },
  {
   "cell_type": "code",
   "execution_count": 10,
   "id": "af3e3202",
   "metadata": {},
   "outputs": [],
   "source": [
    "for i in range(3, 4):\n",
    "    img = cv.imread(f\"antrenare/clasic/{i // 10}{i % 10}.jpg\")\n",
    "    img = cv.resize(img,(0,0),fx=0.2,fy=0.2)\n",
    "    result=preprocess_image(img)"
   ]
  },
  {
   "cell_type": "code",
   "execution_count": 68,
   "id": "9ac497ed",
   "metadata": {},
   "outputs": [],
   "source": [
    "img_crop = cv.imread(\"\")"
   ]
  },
  {
   "cell_type": "code",
   "execution_count": 69,
   "id": "03201626",
   "metadata": {},
   "outputs": [],
   "source": [
    "lines_vertical=[]\n",
    "for i in range(0,500,55):\n",
    "    l=[]\n",
    "    l.append((i,0))\n",
    "    l.append((i,499))\n",
    "    lines_vertical.append(l)"
   ]
  },
  {
   "cell_type": "code",
   "execution_count": 70,
   "id": "119858ba",
   "metadata": {},
   "outputs": [],
   "source": [
    "lines_horizontal=[]\n",
    "for i in range(0,500,55):\n",
    "    l=[]\n",
    "    l.append((0,i))\n",
    "    l.append((499,i))\n",
    "    lines_horizontal.append(l)"
   ]
  },
  {
   "cell_type": "code",
   "execution_count": 71,
   "id": "1f622727",
   "metadata": {},
   "outputs": [],
   "source": [
    "for line in  lines_vertical : \n",
    "    cv.line(img_crop, line[0], line[1], (0, 255, 0), 5)\n",
    "for line in  lines_horizontal : \n",
    "    cv.line(img_crop, line[0], line[1], (0, 0, 255), 5)\n",
    "cv.imshow(\"img\", img_crop)\n",
    "cv.waitKey(0)\n",
    "cv.destroyAllWindows()"
   ]
  },
  {
   "cell_type": "code",
   "execution_count": 75,
   "id": "9046ba46",
   "metadata": {},
   "outputs": [],
   "source": [
    "def get_results(img,lines_horizontal,lines_vertical):\n",
    "    for i in range(len(lines_horizontal) - 1):\n",
    "        for j in range(len(lines_vertical) - 1):\n",
    "            y_min = lines_vertical[j][0][0]\n",
    "            y_max = lines_vertical[j + 1][1][0]\n",
    "            x_min = lines_horizontal[i][0][1]\n",
    "            x_max = lines_horizontal[i + 1][1][1]\n",
    "            patch = img_crop[x_min:x_max, y_min:y_max].copy()\n",
    "            cv.imshow(\"patch\", patch)\n",
    "            cv.waitKey(0)\n",
    "            cv.destroyAllWindows()"
   ]
  },
  {
   "cell_type": "code",
   "execution_count": 76,
   "id": "9a51b1a7",
   "metadata": {},
   "outputs": [],
   "source": [
    "get_results(img,lines_horizontal,lines_vertical)"
   ]
  },
  {
   "cell_type": "code",
   "execution_count": null,
   "id": "52c90ebd",
   "metadata": {},
   "outputs": [],
   "source": []
  }
 ],
 "metadata": {
  "interpreter": {
   "hash": "9f4aa4478d175579f83eaf1cc1322b217241d8ccdf84fcbd0d0080ee8bf8a48e"
  },
  "kernelspec": {
   "display_name": "Python 3.8.8 64-bit ('base': conda)",
   "name": "python3"
  },
  "language_info": {
   "codemirror_mode": {
    "name": "ipython",
    "version": 3
   },
   "file_extension": ".py",
   "mimetype": "text/x-python",
   "name": "python",
   "nbconvert_exporter": "python",
   "pygments_lexer": "ipython3",
   "version": "3.8.8"
  }
 },
 "nbformat": 4,
 "nbformat_minor": 5
}
