{
 "cells": [
  {
   "cell_type": "code",
   "execution_count": 145,
   "id": "af16c1fa",
   "metadata": {},
   "outputs": [],
   "source": [
    "import cv2 as cv\n",
    "import numpy as np"
   ]
  },
  {
   "cell_type": "code",
   "execution_count": 146,
   "id": "8b63a2b5",
   "metadata": {},
   "outputs": [],
   "source": [
    "def normalize_image(img):\n",
    "    noise = cv.dilate(img, np.ones((7,7),np.uint8))\n",
    "    blur = cv.medianBlur(noise, 21)\n",
    "    res = 255 - cv.absdiff(img, blur)\n",
    "    no_shdw = cv.normalize(res,None, alpha=0, beta=255, norm_type=cv.NORM_MINMAX)\n",
    "    return no_shdw "
   ]
  },
  {
   "cell_type": "code",
   "execution_count": 147,
   "id": "658de615",
   "metadata": {},
   "outputs": [],
   "source": [
    "img = cv.imread(\"C:\\\\Users\\\\User\\\\Desktop\\\\Laboratoare\\\\CAVA\\\\proiect1sudoku\\\\Antrenare\\\\clasic\\\\03.jpg\")\n",
    "img = cv.resize(img,(0,0),fx=0.2,fy=0.2)\n",
    "cv.imshow(\"img\",img)\n",
    "cv.waitKey(0)\n",
    "cv.destroyAllWindows()"
   ]
  },
  {
   "cell_type": "code",
   "execution_count": 148,
   "id": "19b95109",
   "metadata": {},
   "outputs": [],
   "source": [
    "img_gray =cv.cvtColor(img, cv.COLOR_BGR2GRAY)\n",
    "img_gray=normalize_image(img_gray)\n",
    "meanValue =np.mean(img_gray)\n",
    "_, img_th = cv.threshold(img_gray,meanValue,255, cv.THRESH_BINARY_INV)"
   ]
  },
  {
   "cell_type": "code",
   "execution_count": 149,
   "id": "982224da",
   "metadata": {},
   "outputs": [],
   "source": [
    "cv.imshow(\"img\",img_th )\n",
    "cv.waitKey(0)\n",
    "cv.destroyAllWindows()"
   ]
  },
  {
   "cell_type": "code",
   "execution_count": 150,
   "id": "85ab48ca",
   "metadata": {},
   "outputs": [],
   "source": [
    "def filter(image):\n",
    "    kernel_vertical = np.array([100*[0],100*[1],100*[0]]) \n",
    "    kernel_vertical=np.transpose(kernel_vertical)\n",
    "    kernel_vertical= kernel_vertical/ kernel_vertical.sum()\n",
    "    filtered_vertical = 255 - cv.filter2D(255 - image, -1,  kernel_vertical)\n",
    "    filtered_vertical[filtered_vertical < 255] = 0\n",
    "    kernel_horizontal = np.array([100*[0],100*[1],100*[0]]) \n",
    "    kernel_horizontal=  kernel_horizontal/  kernel_horizontal.sum()\n",
    "    filtered_horizontal = 255 - cv.filter2D(255 - image, -1,kernel_horizontal)\n",
    "    filtered_horizontal[filtered_horizontal < 255] = 0\n",
    "    return filtered_vertical,filtered_horizontal"
   ]
  },
  {
   "cell_type": "code",
   "execution_count": 151,
   "id": "1eb531d9",
   "metadata": {},
   "outputs": [],
   "source": [
    "filtered_vertical,filtered_horizontal=filter(img_th)"
   ]
  },
  {
   "cell_type": "code",
   "execution_count": 152,
   "id": "eaf7ebd1",
   "metadata": {},
   "outputs": [],
   "source": [
    "cv.imshow(\"img\",filtered_vertical)\n",
    "cv.waitKey(0)\n",
    "cv.destroyAllWindows()"
   ]
  },
  {
   "cell_type": "code",
   "execution_count": 153,
   "id": "aad28076",
   "metadata": {},
   "outputs": [],
   "source": [
    "cv.imshow(\"img\",filtered_horizontal)\n",
    "cv.waitKey(0)\n",
    "cv.destroyAllWindows()"
   ]
  },
  {
   "cell_type": "code",
   "execution_count": 154,
   "id": "42fcdd5d",
   "metadata": {},
   "outputs": [],
   "source": [
    "def extract_vertical_lines(filtered_vertical):\n",
    "    mask_vertical = filtered_vertical // 255\n",
    "    mask_vertical=np.sum(mask_vertical , axis=0) \n",
    "    lines=[]\n",
    "    for i in range(0,len(mask_vertical)):\n",
    "        if(mask_vertical[i]!=0):\n",
    "            lines.append([(i, 0), (i, filtered_vertical.shape[0])])\n",
    "    distinct_lines = []   \n",
    "    distinct_lines.append(lines[0])\n",
    "    for line in lines:\n",
    "        if line[0][0] - distinct_lines[-1][0][0] > 20:\n",
    "            distinct_lines.append(line)\n",
    "    correct_lines = distinct_lines[-10:] \n",
    "    return correct_lines"
   ]
  },
  {
   "cell_type": "code",
   "execution_count": 155,
   "id": "2aaa5134",
   "metadata": {},
   "outputs": [],
   "source": [
    "def extract_horizontal_lines(filtered_horizontal):\n",
    "    mask_horizontal = filtered_horizontal // 255\n",
    "    mask_horizontal=np.sum(mask_horizontal , axis=1) \n",
    "    lines=[]\n",
    "    for i in range(0,len(mask_horizontal)):\n",
    "        if(mask_horizontal[i]!=0):\n",
    "            lines.append([(0, i), (filtered_horizontal.shape[1], i)])\n",
    "    distinct_lines = []   \n",
    "    distinct_lines.append(lines[0])\n",
    "    for line in lines:\n",
    "        if line[0][1] - distinct_lines[-1][0][1] > 20:\n",
    "            distinct_lines.append(line)\n",
    "    correct_lines = distinct_lines[-10:] \n",
    "    return correct_lines"
   ]
  },
  {
   "cell_type": "code",
   "execution_count": 156,
   "id": "f152562a",
   "metadata": {},
   "outputs": [],
   "source": [
    "correct_vertical_lines=extract_vertical_lines(filtered_vertical)"
   ]
  },
  {
   "cell_type": "code",
   "execution_count": 157,
   "id": "87e28632",
   "metadata": {},
   "outputs": [],
   "source": [
    "correct_horizontal_lines=extract_horizontal_lines(filtered_horizontal)"
   ]
  },
  {
   "cell_type": "code",
   "execution_count": 158,
   "id": "3e73738a",
   "metadata": {},
   "outputs": [],
   "source": [
    "img_col=img.copy()"
   ]
  },
  {
   "cell_type": "code",
   "execution_count": 159,
   "id": "ebcc2560",
   "metadata": {},
   "outputs": [],
   "source": [
    "for line in  correct_vertical_lines : \n",
    "    cv.line(img_col, line[0], line[1], (0, 255, 0), 5)\n",
    "cv.imshow(\"img\",img_col)\n",
    "cv.waitKey(0)\n",
    "cv.destroyAllWindows()"
   ]
  },
  {
   "cell_type": "code",
   "execution_count": 160,
   "id": "a64ae7ea",
   "metadata": {},
   "outputs": [],
   "source": [
    "for line in  correct_horizontal_lines : \n",
    "    cv.line(img_col, line[0], line[1], (0, 0, 255), 5)\n",
    "cv.imshow(\"img\",img_col)\n",
    "cv.waitKey(0)\n",
    "cv.destroyAllWindows()"
   ]
  }
 ],
 "metadata": {
  "kernelspec": {
   "display_name": "Python 3 (ipykernel)",
   "language": "python",
   "name": "python3"
  },
  "language_info": {
   "codemirror_mode": {
    "name": "ipython",
    "version": 3
   },
   "file_extension": ".py",
   "mimetype": "text/x-python",
   "name": "python",
   "nbconvert_exporter": "python",
   "pygments_lexer": "ipython3",
   "version": "3.8.11"
  }
 },
 "nbformat": 4,
 "nbformat_minor": 5
}
