{
 "cells": [
  {
   "cell_type": "markdown",
   "metadata": {
    "id": "kYN6xXrf0jdy"
   },
   "source": [
    "# Lab 1. Basic Techniques"
   ]
  },
  {
   "cell_type": "markdown",
   "metadata": {
    "id": "jl-E8ey90y3-"
   },
   "source": [
    "## Regex"
   ]
  },
  {
   "cell_type": "markdown",
   "metadata": {
    "id": "ibjQLLG9yCZS"
   },
   "source": [
    "Expresiile regulate. Utile pentru cautare si normalizare de texte - https://www.w3schools.com/python/python_regex.asp\n"
   ]
  },
  {
   "cell_type": "code",
   "execution_count": null,
   "metadata": {
    "id": "gFqSzXcNyPU7"
   },
   "outputs": [],
   "source": [
    "import re\n",
    "\n",
    "text = \"\"\"\n",
    "Praise for The Rain in Portugal\n",
    " \n",
    "“Nothing in Billy Collins’s twelfth book . . . is exactly what readers might expect, and that’s the charm of this collection.”—The Washington Post\n",
    " \n",
    "“This new collection shows [Collins] at his finest. . . . Certain to please his large readership and a good place for readers new to Collins to begin.”—Library Journal. \n",
    " \n",
    "“Disarmingly playful and wistfully candid.”—Booklist\n",
    "Buy new:$38.65\n",
    "No Import Fees Deposit & $13.01 Shipping to Romania Details -12.3.\n",
    "\"\"\""
   ]
  },
  {
   "cell_type": "markdown",
   "metadata": {
    "id": "PLNJrErsyXNN"
   },
   "source": [
    "Sterge toate caracterele diferite de litere mari si mici ale alfabetului englez, apoi normalizeaza toate secventele de caractere de tip spatii la 1 spatiu"
   ]
  },
  {
   "cell_type": "code",
   "execution_count": null,
   "metadata": {
    "colab": {
     "base_uri": "https://localhost:8080/"
    },
    "executionInfo": {
     "elapsed": 246,
     "status": "ok",
     "timestamp": 1644683724989,
     "user": {
      "displayName": "Bogdan Iordache",
      "photoUrl": "https://lh3.googleusercontent.com/a-/AOh14Gh-PZvTGY_WfhB97fLgLmkcd8CIjhKRDgsFQiip=s64",
      "userId": "11937921055418047811"
     },
     "user_tz": -120
    },
    "id": "YP7lMkYPyW0H",
    "outputId": "1aaf8845-a230-4ca6-b06a-c893408e43b3"
   },
   "outputs": [],
   "source": [
    "cleaned_text = re.sub(\"[^A-Za-z]\", \" \", text)\n",
    "cleaned_text = re.sub(\"\\s+\", \" \", cleaned_text)\n",
    "print(cleaned_text)"
   ]
  },
  {
   "cell_type": "markdown",
   "metadata": {
    "id": "_LOnaRquyhlP"
   },
   "source": [
    "Le putem testa cel mai usor pe https://pythex.org/ . Aici cautam toate numerele float sau int, impreuna cu pozitiile si valorile lor."
   ]
  },
  {
   "cell_type": "code",
   "execution_count": null,
   "metadata": {
    "colab": {
     "base_uri": "https://localhost:8080/"
    },
    "executionInfo": {
     "elapsed": 248,
     "status": "ok",
     "timestamp": 1644684003604,
     "user": {
      "displayName": "Bogdan Iordache",
      "photoUrl": "https://lh3.googleusercontent.com/a-/AOh14Gh-PZvTGY_WfhB97fLgLmkcd8CIjhKRDgsFQiip=s64",
      "userId": "11937921055418047811"
     },
     "user_tz": -120
    },
    "id": "1uJAKaNHyUS_",
    "outputId": "d94404da-f9e8-4fb8-c00f-8c95e28d59ca"
   },
   "outputs": [],
   "source": [
    "pattern = re.compile(\"[+-]?(\\d+\\.)?\\d+\")\n",
    "for matching in pattern.finditer(text):\n",
    "    print(matching.start(), matching.group())"
   ]
  },
  {
   "cell_type": "markdown",
   "metadata": {
    "id": "UQMO4b6u007D"
   },
   "source": [
    "## Encodings"
   ]
  },
  {
   "cell_type": "markdown",
   "metadata": {
    "id": "bI5ffSzvfJi8"
   },
   "source": [
    "Encodarea unui text poate varia, in functie de limba si este importanta. Python foloseste standardul 'utf8'. Urmatorul exemplu este preluat dintr-o subtitrare (.srt) din limba rusa, dar nu este encodat in utf8. Citindu-l obtinem urmatoarea eroare:"
   ]
  },
  {
   "cell_type": "code",
   "execution_count": null,
   "metadata": {
    "colab": {
     "base_uri": "https://localhost:8080/",
     "height": 338
    },
    "executionInfo": {
     "elapsed": 233,
     "status": "error",
     "timestamp": 1644678939085,
     "user": {
      "displayName": "Bogdan Iordache",
      "photoUrl": "https://lh3.googleusercontent.com/a-/AOh14Gh-PZvTGY_WfhB97fLgLmkcd8CIjhKRDgsFQiip=s64",
      "userId": "11937921055418047811"
     },
     "user_tz": -120
    },
    "id": "W1F8_BTNfOK1",
    "outputId": "1486b3df-db44-4424-b8d8-ef19cb4fe330"
   },
   "outputs": [],
   "source": [
    "with open('encoded_text.txt', \"r\") as fin:\n",
    "    content = fin.read()\n",
    "    print(content)"
   ]
  },
  {
   "cell_type": "markdown",
   "metadata": {
    "id": "60znqZ6wfP-s"
   },
   "source": [
    "Incercam sa detectam encoding-ul lui folosind chardet"
   ]
  },
  {
   "cell_type": "code",
   "execution_count": null,
   "metadata": {
    "id": "gvOUmRW2fRN1"
   },
   "outputs": [],
   "source": [
    "! pip install chardet"
   ]
  },
  {
   "cell_type": "code",
   "execution_count": null,
   "metadata": {
    "colab": {
     "base_uri": "https://localhost:8080/"
    },
    "executionInfo": {
     "elapsed": 259,
     "status": "ok",
     "timestamp": 1644678991060,
     "user": {
      "displayName": "Bogdan Iordache",
      "photoUrl": "https://lh3.googleusercontent.com/a-/AOh14Gh-PZvTGY_WfhB97fLgLmkcd8CIjhKRDgsFQiip=s64",
      "userId": "11937921055418047811"
     },
     "user_tz": -120
    },
    "id": "pBBadYt8fXx8",
    "outputId": "8337c7c7-bd49-4889-9600-69399bde4512"
   },
   "outputs": [],
   "source": [
    "import chardet\n",
    "\n",
    "with open('encoded_text.txt', \"rb\") as f:\n",
    "    rawdata = f.read()\n",
    "    result = chardet.detect(rawdata)\n",
    "    extracted_encoding = result['encoding']\n",
    "    print(extracted_encoding)"
   ]
  },
  {
   "cell_type": "markdown",
   "metadata": {
    "id": "XwjdvMNSfZTP"
   },
   "source": [
    "Reluam citirea si salvam continutul in format utf8"
   ]
  },
  {
   "cell_type": "code",
   "execution_count": null,
   "metadata": {
    "id": "OPBYzpfYfcF6"
   },
   "outputs": [],
   "source": [
    "with open('encoded_text.txt', 'r', encoding=extracted_encoding) as fin:\n",
    "    content = fin.read()\n",
    "with open('utf8_text.txt', 'w', encoding='utf8') as fout:\n",
    "    fout.write(content)"
   ]
  },
  {
   "cell_type": "code",
   "execution_count": null,
   "metadata": {
    "colab": {
     "base_uri": "https://localhost:8080/"
    },
    "executionInfo": {
     "elapsed": 240,
     "status": "ok",
     "timestamp": 1644679004976,
     "user": {
      "displayName": "Bogdan Iordache",
      "photoUrl": "https://lh3.googleusercontent.com/a-/AOh14Gh-PZvTGY_WfhB97fLgLmkcd8CIjhKRDgsFQiip=s64",
      "userId": "11937921055418047811"
     },
     "user_tz": -120
    },
    "id": "3ZwGqlQifzDk",
    "outputId": "d5330318-7461-46ab-b094-d1e19fc1fb28"
   },
   "outputs": [],
   "source": [
    "with open('utf8_text.txt', \"r\") as fin:\n",
    "    content = fin.read()\n",
    "    print(content)"
   ]
  },
  {
   "cell_type": "markdown",
   "metadata": {
    "id": "EEC0t_4T05S2"
   },
   "source": [
    "## Non-standard files (PDF, Word, etc.)"
   ]
  },
  {
   "cell_type": "markdown",
   "metadata": {
    "id": "kT-3FzVo0QKT"
   },
   "source": [
    "Putem citi texte din documente word folosind:"
   ]
  },
  {
   "cell_type": "code",
   "execution_count": null,
   "metadata": {},
   "outputs": [],
   "source": [
    "! pip install docx2txt"
   ]
  },
  {
   "cell_type": "code",
   "execution_count": null,
   "metadata": {
    "colab": {
     "base_uri": "https://localhost:8080/"
    },
    "executionInfo": {
     "elapsed": 282,
     "status": "ok",
     "timestamp": 1644684536901,
     "user": {
      "displayName": "Bogdan Iordache",
      "photoUrl": "https://lh3.googleusercontent.com/a-/AOh14Gh-PZvTGY_WfhB97fLgLmkcd8CIjhKRDgsFQiip=s64",
      "userId": "11937921055418047811"
     },
     "user_tz": -120
    },
    "id": "r9aPabVw0XBH",
    "outputId": "76ff3ec9-247c-4efd-b460-28c31dbdb652"
   },
   "outputs": [],
   "source": [
    "import docx2txt\n",
    "my_text = docx2txt.process(\"soup.docx\")\n",
    "print(my_text)"
   ]
  },
  {
   "cell_type": "markdown",
   "metadata": {
    "id": "rYv-2JYZ1YD3"
   },
   "source": [
    "Sau pdf-uri care sunt salvate ca texte (nu poze):"
   ]
  },
  {
   "cell_type": "code",
   "execution_count": null,
   "metadata": {
    "id": "uZHrdF851Z3q"
   },
   "outputs": [],
   "source": [
    "! pip install pdfplumber"
   ]
  },
  {
   "cell_type": "code",
   "execution_count": null,
   "metadata": {
    "colab": {
     "base_uri": "https://localhost:8080/"
    },
    "executionInfo": {
     "elapsed": 952,
     "status": "ok",
     "timestamp": 1644684520795,
     "user": {
      "displayName": "Bogdan Iordache",
      "photoUrl": "https://lh3.googleusercontent.com/a-/AOh14Gh-PZvTGY_WfhB97fLgLmkcd8CIjhKRDgsFQiip=s64",
      "userId": "11937921055418047811"
     },
     "user_tz": -120
    },
    "id": "A_x4wZpQ1hh8",
    "outputId": "e937a5ee-fb74-4c04-bfb2-68ad259bdf1b"
   },
   "outputs": [],
   "source": [
    "import pdfplumber\n",
    "with pdfplumber.open('soup.pdf') as pdf:\n",
    "    for page in pdf.pages:\n",
    "        print(page.extract_text())"
   ]
  },
  {
   "cell_type": "markdown",
   "metadata": {
    "id": "-ix-cDK_1FrO"
   },
   "source": [
    "## Web scraping"
   ]
  },
  {
   "cell_type": "markdown",
   "metadata": {
    "id": "SZ5jU3-C9Xrw"
   },
   "source": [
    "Prin scraping ne referim la o multime de metode prin care putem descarca date nestructurate din mediul web, pe care le putem apoi procesa si stoca sub forma structurata."
   ]
  },
  {
   "cell_type": "markdown",
   "metadata": {
    "id": "kz0-C3BJj9V_"
   },
   "source": [
    "Ca prim exemplu de scraping vom incerca urmatorul task: pornind de la site-ul de programare competitiva \"infoarena.ro\" dorim pentru un utilizator sa descarcam informatii despre toate submisiile efectuate de acesta.\n",
    "\n",
    "Exemplu pagina de submisii: https://www.infoarena.ro/monitor?user=iordache.bogdan\n",
    "\n",
    "Pentru a realiza un request care sa intoarca continutul paginii putem folosi biblioteca \"requests\":"
   ]
  },
  {
   "cell_type": "code",
   "execution_count": null,
   "metadata": {},
   "outputs": [],
   "source": [
    "! pip install requests"
   ]
  },
  {
   "cell_type": "code",
   "execution_count": null,
   "metadata": {
    "id": "Kp2mSeC_9CCu"
   },
   "outputs": [],
   "source": [
    "import requests\n",
    "\n",
    "def get_submissions_page(user):\n",
    "    return requests.get(f\"https://www.infoarena.ro/monitor?user={user}\")"
   ]
  },
  {
   "cell_type": "code",
   "execution_count": null,
   "metadata": {
    "id": "13W4i-G3k7hl"
   },
   "outputs": [],
   "source": [
    "html = get_submissions_page(\"iordache.bogdan\").content"
   ]
  },
  {
   "cell_type": "markdown",
   "metadata": {
    "id": "6aSHQWnilIOR"
   },
   "source": [
    "Observam ca folosind metoda de mai sus putem descarca intreg continutul HTML al paginii. Pentru a extrage informatii utile trebuie sa parsam acest continut. Vom folosi biblioteca [BeautifulSoup](https://www.crummy.com/software/BeautifulSoup/bs4/doc/):"
   ]
  },
  {
   "cell_type": "code",
   "execution_count": null,
   "metadata": {
    "id": "a1NrQndSlG4g"
   },
   "outputs": [],
   "source": [
    "import bs4\n",
    "\n",
    "def parse_html(html):\n",
    "    return bs4.BeautifulSoup(html, \"html.parser\")"
   ]
  },
  {
   "cell_type": "markdown",
   "metadata": {
    "id": "DyKYAfF7l3pO"
   },
   "source": [
    "Avand continutul parsat, putem determina acum cate submisii are in total acest utilizator:"
   ]
  },
  {
   "cell_type": "code",
   "execution_count": null,
   "metadata": {
    "colab": {
     "base_uri": "https://localhost:8080/"
    },
    "executionInfo": {
     "elapsed": 258,
     "status": "ok",
     "timestamp": 1644680792685,
     "user": {
      "displayName": "Bogdan Iordache",
      "photoUrl": "https://lh3.googleusercontent.com/a-/AOh14Gh-PZvTGY_WfhB97fLgLmkcd8CIjhKRDgsFQiip=s64",
      "userId": "11937921055418047811"
     },
     "user_tz": -120
    },
    "id": "UB0sUnx0ltvH",
    "outputId": "e5cd8d9e-0ac0-4f55-d14a-8e0b05ea6e21"
   },
   "outputs": [],
   "source": [
    "import re\n",
    "\n",
    "soup = parse_html(html)\n",
    "\n",
    "# cautam un span care are clasa \"count\", in acest span se afla numarul de submisii\n",
    "submission_count_text = soup.find(\"span\", class_=\"count\").text\n",
    "print(submission_count_text)\n",
    "submission_count = int(re.search(r\"\\d+\", submission_count_text).group())\n",
    "print(submission_count)"
   ]
  },
  {
   "cell_type": "markdown",
   "metadata": {
    "id": "Obu7nG4HnSIJ"
   },
   "source": [
    "Observam ca aceste submisii sunt impartite in mai multe pagini (paginarea rezultatelor). Observam ca link-ul urmator: https://www.infoarena.ro/monitor?user=iordache.bogdan&display_entries=250&first_entry=100 ne returneaza 250 de submisii, incepand cu submisia cu numarul 100. Modificam metoda get_submissions_page astfel:"
   ]
  },
  {
   "cell_type": "code",
   "execution_count": null,
   "metadata": {
    "id": "xwKHy-zGnQ27"
   },
   "outputs": [],
   "source": [
    "def get_submissions_page(user, display_entries=None, first_entry=None):\n",
    "    req_string = f\"https://www.infoarena.ro/monitor?user={user}\"\n",
    "    if display_entries is not None:\n",
    "        req_string += f\"&display_entries={display_entries}\"\n",
    "    if first_entry is not None:\n",
    "        req_string += f\"&first_entry={first_entry}\"\n",
    "\n",
    "    return requests.get(req_string)"
   ]
  },
  {
   "cell_type": "markdown",
   "metadata": {
    "id": "Pv9ylMxPoTh4"
   },
   "source": [
    "Implementam o functie care returneaza informatii despre toate submisiile unui utilizator:"
   ]
  },
  {
   "cell_type": "code",
   "execution_count": null,
   "metadata": {
    "id": "sLG0u9POonXT"
   },
   "outputs": [],
   "source": [
    "from tqdm import tqdm\n",
    "import pandas as pd\n",
    "import pdb\n",
    "\n",
    "def scrape_submissions(user):\n",
    "    # determinam numarul total de submisii\n",
    "    html = get_submissions_page(user).content\n",
    "    soup = parse_html(html)\n",
    "    submission_count_text = soup.find(\"span\", class_=\"count\").text\n",
    "    submission_count = int(re.search(r\"\\d+\", submission_count_text).group())\n",
    "\n",
    "    # vom salva in acest dictionar datele despre submisiile extrase, structura aceasta\n",
    "    # ne va ajuta ulterior sa construim un tabel (dataframe) folosind pandas\n",
    "    d = {\n",
    "        \"id\": [],\n",
    "        \"problema\": [],\n",
    "        \"url_problema\": [],\n",
    "        \"url_sursa\": [],\n",
    "        \"data\": [],\n",
    "        \"puncte\": [],\n",
    "    }\n",
    "\n",
    "    # accesam pagini cu submisii in grupuri de 250\n",
    "    for first_entry in tqdm(range(0, submission_count, 250)):\n",
    "        html = get_submissions_page(user, display_entries=250, first_entry=first_entry).content\n",
    "        soup = parse_html(html)\n",
    "\n",
    "        # selectam toate liniile de tabel (tr)\n",
    "        lines = soup.select(\"table.monitor tbody tr\")\n",
    "\n",
    "        for line in lines:\n",
    "            # selectam celulele de pe aceasta linie\n",
    "            cells = [cell for cell in line.select(\"td\")]\n",
    "\n",
    "            # extragem link-urile pentru problema si codul sursa\n",
    "            try:\n",
    "                url_problema = cells[2].select_one(\"a\")[\"href\"]\n",
    "                url_sursa = cells[4].select_one(\"a\")[\"href\"]\n",
    "            except Exception:  # daca vreun link nu exista ignoram linia\n",
    "                continue\n",
    "            \n",
    "            d[\"id\"].append(cells[0].text)\n",
    "            d[\"problema\"].append(cells[2].text)\n",
    "            d[\"url_problema\"].append(url_problema)\n",
    "            d[\"url_sursa\"].append(url_sursa)\n",
    "            d[\"data\"].append(cells[5].text)\n",
    "\n",
    "            try:\n",
    "                puncte = int(re.search(r\"\\d+\", cells[6].text).group())\n",
    "            except Exception:\n",
    "                puncte = 0\n",
    "            d[\"puncte\"].append(puncte)\n",
    "\n",
    "    return pd.DataFrame(d)"
   ]
  },
  {
   "cell_type": "code",
   "execution_count": null,
   "metadata": {
    "colab": {
     "base_uri": "https://localhost:8080/"
    },
    "executionInfo": {
     "elapsed": 47013,
     "status": "ok",
     "timestamp": 1644683262587,
     "user": {
      "displayName": "Bogdan Iordache",
      "photoUrl": "https://lh3.googleusercontent.com/a-/AOh14Gh-PZvTGY_WfhB97fLgLmkcd8CIjhKRDgsFQiip=s64",
      "userId": "11937921055418047811"
     },
     "user_tz": -120
    },
    "id": "W9Pf0rtfrL_w",
    "outputId": "c6bc6bb7-15d2-4220-9192-e6a1a0bb826b"
   },
   "outputs": [],
   "source": [
    "df_submissions = scrape_submissions(\"iordache.bogdan\")"
   ]
  },
  {
   "cell_type": "code",
   "execution_count": null,
   "metadata": {
    "colab": {
     "base_uri": "https://localhost:8080/",
     "height": 206
    },
    "executionInfo": {
     "elapsed": 267,
     "status": "ok",
     "timestamp": 1644683266483,
     "user": {
      "displayName": "Bogdan Iordache",
      "photoUrl": "https://lh3.googleusercontent.com/a-/AOh14Gh-PZvTGY_WfhB97fLgLmkcd8CIjhKRDgsFQiip=s64",
      "userId": "11937921055418047811"
     },
     "user_tz": -120
    },
    "id": "LwOII21wtFKF",
    "outputId": "4c315a21-7994-46e4-a6a1-19083f4aea61"
   },
   "outputs": [],
   "source": [
    "df_submissions.head()"
   ]
  },
  {
   "cell_type": "code",
   "execution_count": null,
   "metadata": {
    "id": "bSUVqGCBwycM"
   },
   "outputs": [],
   "source": [
    "df_submissions.to_csv(\"submissions.csv\", index=False)"
   ]
  },
  {
   "cell_type": "markdown",
   "metadata": {
    "id": "0JDLdzlAijhV"
   },
   "source": [
    "Exemplu scriere/citire fisier JSON:"
   ]
  },
  {
   "cell_type": "code",
   "execution_count": null,
   "metadata": {
    "id": "SkKsP_UPiofJ"
   },
   "outputs": [],
   "source": [
    "import json\n",
    "\n",
    "vec = [\n",
    "    {\"title\": \"example_1\", \"size\": 7},\n",
    "    {\"title\": \"example_2\", \"size\": 3},\n",
    "    {\"title\": \"example_3\", \"size\": 8},\n",
    "]\n",
    "\n",
    "with open(\"example.json\", \"w\") as f:\n",
    "    json.dump(vec, f, indent=4)"
   ]
  },
  {
   "cell_type": "code",
   "execution_count": null,
   "metadata": {
    "colab": {
     "base_uri": "https://localhost:8080/"
    },
    "executionInfo": {
     "elapsed": 4,
     "status": "ok",
     "timestamp": 1644679711408,
     "user": {
      "displayName": "Bogdan Iordache",
      "photoUrl": "https://lh3.googleusercontent.com/a-/AOh14Gh-PZvTGY_WfhB97fLgLmkcd8CIjhKRDgsFQiip=s64",
      "userId": "11937921055418047811"
     },
     "user_tz": -120
    },
    "id": "8qpLd3OujHvP",
    "outputId": "9661a6b7-8b83-44db-c1a3-18f126be8337"
   },
   "outputs": [],
   "source": [
    "with open(\"example.json\", \"r\") as f:\n",
    "    vec = json.load(f)\n",
    "print(vec)"
   ]
  },
  {
   "cell_type": "markdown",
   "metadata": {
    "id": "L57SsXOnfd__"
   },
   "source": [
    "Un alt mod de a face scraping este sa folosim biblioteca pandas pentru a ne extrage tabele html, transformandu-le in DataFrame-uri, pe care le putem manipula foarte usor. Un exemplu util este extragerea sarbatorile legale romanesti, in anul 2022, de pe https://www.timeanddate.com/."
   ]
  },
  {
   "cell_type": "code",
   "execution_count": null,
   "metadata": {},
   "outputs": [],
   "source": [
    "! pip install lxml"
   ]
  },
  {
   "cell_type": "code",
   "execution_count": null,
   "metadata": {
    "colab": {
     "base_uri": "https://localhost:8080/",
     "height": 206
    },
    "executionInfo": {
     "elapsed": 486,
     "status": "ok",
     "timestamp": 1644679255096,
     "user": {
      "displayName": "Bogdan Iordache",
      "photoUrl": "https://lh3.googleusercontent.com/a-/AOh14Gh-PZvTGY_WfhB97fLgLmkcd8CIjhKRDgsFQiip=s64",
      "userId": "11937921055418047811"
     },
     "user_tz": -120
    },
    "id": "4KiZSYVGg1jP",
    "outputId": "b8c1093b-3c08-4272-c9f3-f84d0e15ac55"
   },
   "outputs": [],
   "source": [
    "import pandas as pd\n",
    "\n",
    "tables_df = pd.read_html('https://www.timeanddate.com/holidays/romania/2022?hol=1')\n",
    "df = tables_df[0]\n",
    "\n",
    "# Il putem curata prin a sterge liniile nule si modifica coloanele de la tuplul \"(Date, Date)\" -> \"Date\"\n",
    "df = df.dropna(axis='index')\n",
    "df.columns = ['Date', 'Day', 'Name', 'Type']\n",
    "\n",
    "# Reindexam tabelul\n",
    "df = df.reset_index(drop=\"True\")\n",
    "\n",
    "# Afisam primele 5 randuri\n",
    "df.head()"
   ]
  },
  {
   "cell_type": "code",
   "execution_count": null,
   "metadata": {
    "colab": {
     "base_uri": "https://localhost:8080/",
     "height": 238
    },
    "executionInfo": {
     "elapsed": 251,
     "status": "ok",
     "timestamp": 1644679369336,
     "user": {
      "displayName": "Bogdan Iordache",
      "photoUrl": "https://lh3.googleusercontent.com/a-/AOh14Gh-PZvTGY_WfhB97fLgLmkcd8CIjhKRDgsFQiip=s64",
      "userId": "11937921055418047811"
     },
     "user_tz": -120
    },
    "id": "4s6tVtnIfF1_",
    "outputId": "b6533bfb-860f-4340-cbe1-554159b629da"
   },
   "outputs": [],
   "source": [
    "# Daca vrem se vedem sarbatorile care pica in ziua de luni\n",
    "df_luni = df.loc[df[\"Day\"] == \"luni\"]\n",
    "df_luni"
   ]
  },
  {
   "cell_type": "code",
   "execution_count": null,
   "metadata": {
    "colab": {
     "base_uri": "https://localhost:8080/",
     "height": 175
    },
    "executionInfo": {
     "elapsed": 244,
     "status": "ok",
     "timestamp": 1644679392984,
     "user": {
      "displayName": "Bogdan Iordache",
      "photoUrl": "https://lh3.googleusercontent.com/a-/AOh14Gh-PZvTGY_WfhB97fLgLmkcd8CIjhKRDgsFQiip=s64",
      "userId": "11937921055418047811"
     },
     "user_tz": -120
    },
    "id": "zeX7VEyXh57m",
    "outputId": "f15cdbdc-26f9-412b-f09b-eb3d516397f1"
   },
   "outputs": [],
   "source": [
    "df_luni.describe()"
   ]
  },
  {
   "cell_type": "markdown",
   "metadata": {
    "id": "xmrzEs27iHYw"
   },
   "source": [
    "Putem salva rezultatul (la fel ca orice dictionar de python) intr-un json, ca alternativa la DataFrame - si poate fi util intr-o aplicatie pentru comunicarea cu front-end-ul"
   ]
  },
  {
   "cell_type": "code",
   "execution_count": null,
   "metadata": {
    "id": "cRwND0SBh_Ca"
   },
   "outputs": [],
   "source": [
    "import json\n",
    "json_str = df.to_json(orient='records')\n",
    "json_result = json.loads(json_str)\n",
    "\n",
    "with open('holidays.json', 'w', encoding='utf8') as fout:\n",
    "    json.dump(json_result, fout, indent=4, sort_keys=True, ensure_ascii=False)"
   ]
  },
  {
   "cell_type": "markdown",
   "metadata": {
    "id": "v4uecs3b3MXZ"
   },
   "source": [
    "Alte biblioteci utile pentru scraping:\n",
    " * [scrapy](https://scrapy.org/) (folosit in special pentru web crawling)\n",
    " * [selenium](https://selenium-python.readthedocs.io/) (folosit pentru a simula activitatea din browser, utilizat in special in scrierea de teste pentru aplicatii front-end)"
   ]
  },
  {
   "cell_type": "markdown",
   "metadata": {
    "id": "sFNRIfgF1cRD"
   },
   "source": [
    "## TASK: IMDb scraping (deadline: 3 martie ora 23:59)"
   ]
  },
  {
   "cell_type": "markdown",
   "metadata": {
    "id": "6G-0iTm14GIy"
   },
   "source": [
    "1. Pornind de la lista cu cele mai populare 250 de filme de pe IMDb ([https://www.imdb.com/chart/top/](https://www.imdb.com/chart/top/)), identificati pentru toate aceste filme link-ul catre pagina sa de recenzii.\n",
    "\n",
    "Exemplu: aici se gaseste pagina cu recenzii pentru \"The Shawshank Redemption\": [https://www.imdb.com/title/tt0111161/reviews](https://www.imdb.com/title/tt0111161/reviews)"
   ]
  },
  {
   "cell_type": "code",
   "execution_count": 21,
   "metadata": {
    "id": "Wlm1QSJR5Ie9"
   },
   "outputs": [
    {
     "data": {
      "text/html": [
       "<div>\n",
       "<style scoped>\n",
       "    .dataframe tbody tr th:only-of-type {\n",
       "        vertical-align: middle;\n",
       "    }\n",
       "\n",
       "    .dataframe tbody tr th {\n",
       "        vertical-align: top;\n",
       "    }\n",
       "\n",
       "    .dataframe thead th {\n",
       "        text-align: right;\n",
       "    }\n",
       "</style>\n",
       "<table border=\"1\" class=\"dataframe\">\n",
       "  <thead>\n",
       "    <tr style=\"text-align: right;\">\n",
       "      <th></th>\n",
       "      <th>title</th>\n",
       "      <th>link</th>\n",
       "    </tr>\n",
       "  </thead>\n",
       "  <tbody>\n",
       "    <tr>\n",
       "      <th>0</th>\n",
       "      <td>Închisoarea îngerilor</td>\n",
       "      <td>https://www.imdb.com/title/tt0111161/reviews</td>\n",
       "    </tr>\n",
       "    <tr>\n",
       "      <th>1</th>\n",
       "      <td>Nașul</td>\n",
       "      <td>https://www.imdb.com/title/tt0068646/reviews</td>\n",
       "    </tr>\n",
       "    <tr>\n",
       "      <th>2</th>\n",
       "      <td>Nașul: Partea a II-a</td>\n",
       "      <td>https://www.imdb.com/title/tt0071562/reviews</td>\n",
       "    </tr>\n",
       "    <tr>\n",
       "      <th>3</th>\n",
       "      <td>Cavalerul negru</td>\n",
       "      <td>https://www.imdb.com/title/tt0468569/reviews</td>\n",
       "    </tr>\n",
       "    <tr>\n",
       "      <th>4</th>\n",
       "      <td>12 Oameni mânioşi</td>\n",
       "      <td>https://www.imdb.com/title/tt0050083/reviews</td>\n",
       "    </tr>\n",
       "    <tr>\n",
       "      <th>...</th>\n",
       "      <td>...</td>\n",
       "      <td>...</td>\n",
       "    </tr>\n",
       "    <tr>\n",
       "      <th>245</th>\n",
       "      <td>Andrei Rubliov</td>\n",
       "      <td>https://www.imdb.com/title/tt0060107/reviews</td>\n",
       "    </tr>\n",
       "    <tr>\n",
       "      <th>246</th>\n",
       "      <td>Soorarai Pottru</td>\n",
       "      <td>https://www.imdb.com/title/tt10189514/reviews</td>\n",
       "    </tr>\n",
       "    <tr>\n",
       "      <th>247</th>\n",
       "      <td>Le notti di Cabiria</td>\n",
       "      <td>https://www.imdb.com/title/tt0050783/reviews</td>\n",
       "    </tr>\n",
       "    <tr>\n",
       "      <th>248</th>\n",
       "      <td>Shin seiki Evangelion Gekijô-ban: Air/Magokoro...</td>\n",
       "      <td>https://www.imdb.com/title/tt0169858/reviews</td>\n",
       "    </tr>\n",
       "    <tr>\n",
       "      <th>249</th>\n",
       "      <td>Hera Pheri</td>\n",
       "      <td>https://www.imdb.com/title/tt0242519/reviews</td>\n",
       "    </tr>\n",
       "  </tbody>\n",
       "</table>\n",
       "<p>250 rows × 2 columns</p>\n",
       "</div>"
      ],
      "text/plain": [
       "                                                 title  \\\n",
       "0                                Închisoarea îngerilor   \n",
       "1                                                Nașul   \n",
       "2                                 Nașul: Partea a II-a   \n",
       "3                                      Cavalerul negru   \n",
       "4                                    12 Oameni mânioşi   \n",
       "..                                                 ...   \n",
       "245                                     Andrei Rubliov   \n",
       "246                                    Soorarai Pottru   \n",
       "247                                Le notti di Cabiria   \n",
       "248  Shin seiki Evangelion Gekijô-ban: Air/Magokoro...   \n",
       "249                                         Hera Pheri   \n",
       "\n",
       "                                              link  \n",
       "0     https://www.imdb.com/title/tt0111161/reviews  \n",
       "1     https://www.imdb.com/title/tt0068646/reviews  \n",
       "2     https://www.imdb.com/title/tt0071562/reviews  \n",
       "3     https://www.imdb.com/title/tt0468569/reviews  \n",
       "4     https://www.imdb.com/title/tt0050083/reviews  \n",
       "..                                             ...  \n",
       "245   https://www.imdb.com/title/tt0060107/reviews  \n",
       "246  https://www.imdb.com/title/tt10189514/reviews  \n",
       "247   https://www.imdb.com/title/tt0050783/reviews  \n",
       "248   https://www.imdb.com/title/tt0169858/reviews  \n",
       "249   https://www.imdb.com/title/tt0242519/reviews  \n",
       "\n",
       "[250 rows x 2 columns]"
      ]
     },
     "execution_count": 21,
     "metadata": {},
     "output_type": "execute_result"
    }
   ],
   "source": [
    "# Theodor-Pierre Moroianu\n",
    "# grupa 334\n",
    "\n",
    "import pandas as pd\n",
    "import requests\n",
    "from tqdm import tqdm\n",
    "import bs4\n",
    "import re\n",
    "\n",
    "# citim lista de filme\n",
    "content = requests.get('https://www.imdb.com/chart/top/')\n",
    "content = bs4.BeautifulSoup(content.content, \"html.parser\")\n",
    "\n",
    "# extragem tabelul principal, si linile tabelului\n",
    "table = content.find(\"tbody\", class_=\"lister-list\")\n",
    "rows = table.find_all(\"tr\")\n",
    "\n",
    "# aici salvam rezultatele\n",
    "movies_links = {\n",
    "    \"title\": [],\n",
    "    \"link\": [],\n",
    "}\n",
    "\n",
    "# iteram prin linii\n",
    "for row in rows:\n",
    "    # extragem coloana care ne intereseaza\n",
    "    title_column = row.find(\"td\", class_=\"titleColumn\")\n",
    "    \n",
    "    # extragem linkul. Textul va fi titlul, href-ul linkul catre film\n",
    "    title = title_column.find(\"a\")\n",
    "    movies_links[\"title\"].append(title.text)\n",
    "    # obtinem un link care nu contine URL-ul, pentru ca ramane pe acelasi site.\n",
    "    # trebuie sa injectam manual https://www.imdb.com/ [...] / reviews\n",
    "    movies_links[\"link\"].append(\n",
    "        \"https://www.imdb.com\" + \n",
    "        title[\"href\"] +\n",
    "        \"reviews\"\n",
    "    )\n",
    "\n",
    "movies_links = pd.DataFrame(movies_links)\n",
    "movies_links"
   ]
  },
  {
   "cell_type": "markdown",
   "metadata": {
    "id": "wK56g-0W5I1p"
   },
   "source": [
    "2. Pentru fiecare film colectati date despre recenziile sale (titlu, text, rating, data, utlizator, etc.)"
   ]
  },
  {
   "cell_type": "code",
   "execution_count": 27,
   "metadata": {
    "id": "jXT34ayI5_qi"
   },
   "outputs": [],
   "source": [
    "# df to store the data into\n",
    "movies_reviews = {\n",
    "    \"movie_title\": [],\n",
    "    \"review_title\": [],\n",
    "    \"review_text\": [],\n",
    "    \"review_rating\": [],\n",
    "    \"review_date\": [],\n",
    "    \"review_user\": [],\n",
    "    \"movie_year\": [],\n",
    "}\n",
    "\n",
    "\n",
    "def process_review(movie_title: str, review_url: str):\n",
    "    \"\"\"\n",
    "        Extrage datele dintr-un SINGUR review.\n",
    "    \"\"\"\n",
    "    review_content = requests.get(review_url)\n",
    "    review_content = bs4.BeautifulSoup(review_content.content, \"html.parser\")\n",
    "\n",
    "    review_user = review_content.find(\"div\", class_=\"subpage_title_block\")\\\n",
    "        .find(\"div\", class_=\"parent\").text\n",
    "\n",
    "    # extragem review container ca sa nu avem coliziuni cu alte componente\n",
    "    # ale paginii\n",
    "    review_content = review_content.find(\"div\", class_=\"review-container\")\n",
    "    review_content = review_content.find(\"div\", class_=\"lister-item-content\")\n",
    "\n",
    "    review_title = review_content.find(\"a\", class_=\"title\").text\n",
    "    review_text = review_content.find(\"div\", class_=\"text show-more__control\").text\n",
    "\n",
    "    # unele reviewuri nu au rating\n",
    "    # daca try crapa, inseamna ca nu avem niciun rating\n",
    "    try:\n",
    "        review_rating = review_content.find(\"span\", class_=\"rating-other-user-rating\")\\\n",
    "            .find(\"span\").text\n",
    "    except AttributeError:\n",
    "        review_rating = \"N/A\"    \n",
    "\n",
    "    review_date = review_content.find(\"span\", class_=\"review-date\").text\n",
    "    movie_year = review_content.find(\"span\", class_=\"lister-item-year text-muted unbold\").text[1:-1]\n",
    "\n",
    "    # adaugam review-ul\n",
    "    movies_reviews[\"movie_title\"].append(movie_title)\n",
    "    movies_reviews[\"review_title\"].append(review_title)\n",
    "    movies_reviews[\"review_text\"].append(review_text)\n",
    "    movies_reviews[\"review_rating\"].append(review_rating)\n",
    "    movies_reviews[\"review_date\"].append(review_date)\n",
    "    movies_reviews[\"review_user\"].append(review_user)\n",
    "    movies_reviews[\"movie_year\"].append(movie_year)\n",
    "\n",
    "\n",
    "def parse_reviews(movie_title, content: bs4.BeautifulSoup, nr_min_reviews: int = 0):\n",
    "    \"\"\"\n",
    "        Parseaza content, si:\n",
    "            * extrage toate reviewurile\n",
    "            * Daca este nevoie, apeleaza recursiv cu urmatoarea paginare\n",
    "    \"\"\"\n",
    "    # extragem tabelul principal, si linile tabelului\n",
    "    reviews_table = content.find(\"div\", class_=\"lister-list\")\n",
    "    reviews_rows = reviews_table.findChildren(\"div\", recursive=False)\n",
    "    \n",
    "    # iteram prin fiecare review\n",
    "    for review_row in reviews_rows:\n",
    "        # izolam continutul\n",
    "        review_content = review_row.find(\"div\", class_=\"lister-item-content\")\n",
    "        \n",
    "        # extragem url-ul\n",
    "        review_url = review_content.find(\"a\", class_=\"title\")[\"href\"]\n",
    "        review_url = \"https://www.imdb.com\" + review_url\n",
    "        \n",
    "        # procesam review-ul\n",
    "        process_review(title, review_url)\n",
    "        nr_min_reviews -= 1\n",
    "    \n",
    "    # mai trebuie reviewuri\n",
    "    # apelam recursiv, cu urmatoarea paginare\n",
    "    if nr_min_reviews > 0:\n",
    "        # gasim data-key-ul folosit pentru a cere mai multe reviewuri\n",
    "        token = content.find(\"div\", class_=\"load-more-data\")[\"data-key\"]\n",
    "        api_endpoint = f\"https://www.imdb.com/title/tt0111161/reviews/_ajax?ref_=undefined&paginationKey={token}\"\n",
    "        next_content = requests.get(api_endpoint)\n",
    "        next_content = bs4.BeautifulSoup(next_content.content, \"html.parser\")\n",
    "        # apelam recursiv\n",
    "        # am fi putut sa facem un while, dar pare mai clean asa\n",
    "        parse_reviews(movie_title, next_content, nr_min_reviews)\n",
    "\n",
    "\n",
    "def process_movie_reviews(title: str, url: str, nr_min_reviews: int) -> int:\n",
    "    \"\"\"\n",
    "        Extrage datele dintr-un singur film\n",
    "        Extrage cel putin nr_min_reviews recenzii.\n",
    "    \"\"\"\n",
    "    reviews_content = requests.get(url)\n",
    "    reviews_content = bs4.BeautifulSoup(reviews_content.content, \"html.parser\")\n",
    "\n",
    "    parse_reviews(title, reviews_content, nr_min_reviews)"
   ]
  },
  {
   "cell_type": "code",
   "execution_count": 28,
   "metadata": {},
   "outputs": [
    {
     "name": "stderr",
     "output_type": "stream",
     "text": [
      "100%|██████████| 4/4 [01:07<00:00, 16.76s/it]\n"
     ]
    }
   ],
   "source": [
    "# iterate through the top 250 movies\n",
    "# luam doar primele 4 ca sa nu dureze o vesnicie\n",
    "for _, (title, url) in tqdm([i for p, i in enumerate(movies_links.iterrows()) if p < 4]):\n",
    "    process_movie_reviews(title, url, -1)"
   ]
  },
  {
   "cell_type": "code",
   "execution_count": 29,
   "metadata": {},
   "outputs": [
    {
     "data": {
      "text/html": [
       "<div>\n",
       "<style scoped>\n",
       "    .dataframe tbody tr th:only-of-type {\n",
       "        vertical-align: middle;\n",
       "    }\n",
       "\n",
       "    .dataframe tbody tr th {\n",
       "        vertical-align: top;\n",
       "    }\n",
       "\n",
       "    .dataframe thead th {\n",
       "        text-align: right;\n",
       "    }\n",
       "</style>\n",
       "<table border=\"1\" class=\"dataframe\">\n",
       "  <thead>\n",
       "    <tr style=\"text-align: right;\">\n",
       "      <th></th>\n",
       "      <th>movie_title</th>\n",
       "      <th>review_title</th>\n",
       "      <th>review_text</th>\n",
       "      <th>review_rating</th>\n",
       "      <th>review_date</th>\n",
       "      <th>review_user</th>\n",
       "      <th>movie_year</th>\n",
       "    </tr>\n",
       "  </thead>\n",
       "  <tbody>\n",
       "    <tr>\n",
       "      <th>0</th>\n",
       "      <td>Închisoarea îngerilor</td>\n",
       "      <td>Enthralling, fantastic, intriguing, truly rem...</td>\n",
       "      <td>Shawshank Redemption is without doubt one of t...</td>\n",
       "      <td>10</td>\n",
       "      <td>17 April 2009</td>\n",
       "      <td>TheLittleSongbird</td>\n",
       "      <td>1994</td>\n",
       "    </tr>\n",
       "    <tr>\n",
       "      <th>1</th>\n",
       "      <td>Închisoarea îngerilor</td>\n",
       "      <td>\"I Had To Go To Prison To Learn To Be A Crook\"\\n</td>\n",
       "      <td>None of the usual otherworld creatures that po...</td>\n",
       "      <td>9</td>\n",
       "      <td>17 February 2011</td>\n",
       "      <td>bkoganbing</td>\n",
       "      <td>1994</td>\n",
       "    </tr>\n",
       "    <tr>\n",
       "      <th>2</th>\n",
       "      <td>Închisoarea îngerilor</td>\n",
       "      <td>All-time prison film classic\\n</td>\n",
       "      <td>Based on a novella by Stephen King, this is be...</td>\n",
       "      <td>10</td>\n",
       "      <td>18 December 2016</td>\n",
       "      <td>Leofwine_draca</td>\n",
       "      <td>1994</td>\n",
       "    </tr>\n",
       "    <tr>\n",
       "      <th>3</th>\n",
       "      <td>Închisoarea îngerilor</td>\n",
       "      <td>Masterpiece\\n</td>\n",
       "      <td>Shawshank Redemption, The (1994)**** (out of 4...</td>\n",
       "      <td>N/A</td>\n",
       "      <td>2 December 2008</td>\n",
       "      <td>Michael_Elliott</td>\n",
       "      <td>1994</td>\n",
       "    </tr>\n",
       "    <tr>\n",
       "      <th>4</th>\n",
       "      <td>Închisoarea îngerilor</td>\n",
       "      <td>Freeman gives it depth\\n</td>\n",
       "      <td>Andy Dufresne (Tim Robbins) is a banker convic...</td>\n",
       "      <td>8</td>\n",
       "      <td>8 December 2013</td>\n",
       "      <td>SnoopyStyle</td>\n",
       "      <td>1994</td>\n",
       "    </tr>\n",
       "    <tr>\n",
       "      <th>...</th>\n",
       "      <td>...</td>\n",
       "      <td>...</td>\n",
       "      <td>...</td>\n",
       "      <td>...</td>\n",
       "      <td>...</td>\n",
       "      <td>...</td>\n",
       "      <td>...</td>\n",
       "    </tr>\n",
       "    <tr>\n",
       "      <th>95</th>\n",
       "      <td>Cavalerul negru</td>\n",
       "      <td>A terrorist plot so complicated and convolute...</td>\n",
       "      <td>Gotham City no longer has an ethereal, poetic ...</td>\n",
       "      <td>6</td>\n",
       "      <td>22 January 2011</td>\n",
       "      <td>moonspinner55</td>\n",
       "      <td>2008</td>\n",
       "    </tr>\n",
       "    <tr>\n",
       "      <th>96</th>\n",
       "      <td>Cavalerul negru</td>\n",
       "      <td>Smashing follow-up to Batman Begins.\\n</td>\n",
       "      <td>I really like the first one in this current se...</td>\n",
       "      <td>N/A</td>\n",
       "      <td>16 December 2008</td>\n",
       "      <td>TxMike</td>\n",
       "      <td>2008</td>\n",
       "    </tr>\n",
       "    <tr>\n",
       "      <th>97</th>\n",
       "      <td>Cavalerul negru</td>\n",
       "      <td>Nolan, Bale, Ledger, Eckhart, all hit it out ...</td>\n",
       "      <td>I wasn't sure what to expect from The Dark Kni...</td>\n",
       "      <td>7</td>\n",
       "      <td>18 July 2008</td>\n",
       "      <td>Quinoa1984</td>\n",
       "      <td>2008</td>\n",
       "    </tr>\n",
       "    <tr>\n",
       "      <th>98</th>\n",
       "      <td>Cavalerul negru</td>\n",
       "      <td>The Dark Knight was another awesome Batman mo...</td>\n",
       "      <td>Before I comment on the movie proper, I'd like...</td>\n",
       "      <td>9</td>\n",
       "      <td>21 July 2008</td>\n",
       "      <td>tavm</td>\n",
       "      <td>2008</td>\n",
       "    </tr>\n",
       "    <tr>\n",
       "      <th>99</th>\n",
       "      <td>Cavalerul negru</td>\n",
       "      <td>Dark Knight-Joker and Others Go Wild ***\\n</td>\n",
       "      <td>The film is good but is very much over-rated. ...</td>\n",
       "      <td>7</td>\n",
       "      <td>6 August 2008</td>\n",
       "      <td>edwagreen</td>\n",
       "      <td>2008</td>\n",
       "    </tr>\n",
       "  </tbody>\n",
       "</table>\n",
       "<p>100 rows × 7 columns</p>\n",
       "</div>"
      ],
      "text/plain": [
       "              movie_title                                       review_title  \\\n",
       "0   Închisoarea îngerilor   Enthralling, fantastic, intriguing, truly rem...   \n",
       "1   Închisoarea îngerilor   \"I Had To Go To Prison To Learn To Be A Crook\"\\n   \n",
       "2   Închisoarea îngerilor                     All-time prison film classic\\n   \n",
       "3   Închisoarea îngerilor                                      Masterpiece\\n   \n",
       "4   Închisoarea îngerilor                           Freeman gives it depth\\n   \n",
       "..                    ...                                                ...   \n",
       "95        Cavalerul negru   A terrorist plot so complicated and convolute...   \n",
       "96        Cavalerul negru             Smashing follow-up to Batman Begins.\\n   \n",
       "97        Cavalerul negru   Nolan, Bale, Ledger, Eckhart, all hit it out ...   \n",
       "98        Cavalerul negru   The Dark Knight was another awesome Batman mo...   \n",
       "99        Cavalerul negru         Dark Knight-Joker and Others Go Wild ***\\n   \n",
       "\n",
       "                                          review_text review_rating  \\\n",
       "0   Shawshank Redemption is without doubt one of t...            10   \n",
       "1   None of the usual otherworld creatures that po...             9   \n",
       "2   Based on a novella by Stephen King, this is be...            10   \n",
       "3   Shawshank Redemption, The (1994)**** (out of 4...           N/A   \n",
       "4   Andy Dufresne (Tim Robbins) is a banker convic...             8   \n",
       "..                                                ...           ...   \n",
       "95  Gotham City no longer has an ethereal, poetic ...             6   \n",
       "96  I really like the first one in this current se...           N/A   \n",
       "97  I wasn't sure what to expect from The Dark Kni...             7   \n",
       "98  Before I comment on the movie proper, I'd like...             9   \n",
       "99  The film is good but is very much over-rated. ...             7   \n",
       "\n",
       "         review_date        review_user movie_year  \n",
       "0      17 April 2009  TheLittleSongbird       1994  \n",
       "1   17 February 2011         bkoganbing       1994  \n",
       "2   18 December 2016     Leofwine_draca       1994  \n",
       "3    2 December 2008    Michael_Elliott       1994  \n",
       "4    8 December 2013        SnoopyStyle       1994  \n",
       "..               ...                ...        ...  \n",
       "95   22 January 2011      moonspinner55       2008  \n",
       "96  16 December 2008             TxMike       2008  \n",
       "97      18 July 2008         Quinoa1984       2008  \n",
       "98      21 July 2008               tavm       2008  \n",
       "99     6 August 2008          edwagreen       2008  \n",
       "\n",
       "[100 rows x 7 columns]"
      ]
     },
     "execution_count": 29,
     "metadata": {},
     "output_type": "execute_result"
    }
   ],
   "source": [
    "pd.DataFrame(movies_reviews)"
   ]
  },
  {
   "cell_type": "markdown",
   "metadata": {
    "id": "RhcG_zFK6AFE"
   },
   "source": [
    "3. Creati un dataset de recenzii, pentru fiecare recenzie stocati:\n",
    " * filmul caruia ii apartine\n",
    " * titlul recenziei\n",
    " * textul recenziei\n",
    " * ratingul\n",
    " * data\n",
    " * utilizator\n",
    "\n",
    " Salvati datasetul intr-un fisier JSON."
   ]
  },
  {
   "cell_type": "code",
   "execution_count": 30,
   "metadata": {
    "id": "4BYOWe4C6wz3"
   },
   "outputs": [],
   "source": [
    "import json\n",
    "\n",
    "# avem deja de mai sus in movies_reviews toate datele cerute.\n",
    "# doar le punem intr-un fisier.\n",
    "data = json.dumps(movies_reviews)\n",
    "with open(\"data.json\", \"w\") as fout:\n",
    "    fout.write(data)"
   ]
  },
  {
   "cell_type": "markdown",
   "metadata": {
    "id": "NtSpO-Ss6yF_"
   },
   "source": [
    "4. Pe o pagina cu recenzii putem gasi un numar mic de astfel de date. Butonul de \"Load more\" de la final, cand este apasat, produce un request care returneaza HTML-ul urmatoarelor recenzii. Folosind aceasta logica colectati automat pentru fiecare film un numar mai mare de recenzii."
   ]
  },
  {
   "cell_type": "code",
   "execution_count": 31,
   "metadata": {
    "id": "aO3K690x7m4I"
   },
   "outputs": [
    {
     "name": "stderr",
     "output_type": "stream",
     "text": [
      "100%|██████████| 2/2 [02:22<00:00, 71.06s/it]\n"
     ]
    }
   ],
   "source": [
    "# iterate through the top 250 movies\n",
    "# luam doar primele 2 ca sa nu dureze o vesnicie\n",
    "# cerem sa ne faca 100 de reviewuri, si functia jmechera recursiva\n",
    "# le va lua dupa paginare cum trebuie, ca sa aiba minim 100.\n",
    "for _, (title, url) in tqdm([i for p, i in enumerate(movies_links.iterrows()) if p < 2]):\n",
    "    process_movie_reviews(title, url, 100)"
   ]
  },
  {
   "cell_type": "code",
   "execution_count": null,
   "metadata": {},
   "outputs": [],
   "source": [
    "!firefox \"https://www.youtube.com/watch?v=dQw4w9WgXcQ\"\n",
    "!chrome \"https://www.youtube.com/watch?v=dQw4w9WgXcQ\""
   ]
  }
 ],
 "metadata": {
  "colab": {
   "collapsed_sections": [],
   "name": "lab1_draft",
   "provenance": []
  },
  "interpreter": {
   "hash": "767d51c1340bd893661ea55ea3124f6de3c7a262a8b4abca0554b478b1e2ff90"
  },
  "kernelspec": {
   "display_name": "lab-nlp-an3",
   "language": "python",
   "name": "python3"
  },
  "language_info": {
   "codemirror_mode": {
    "name": "ipython",
    "version": 3
   },
   "file_extension": ".py",
   "mimetype": "text/x-python",
   "name": "python",
   "nbconvert_exporter": "python",
   "pygments_lexer": "ipython3",
   "version": "3.10.2"
  }
 },
 "nbformat": 4,
 "nbformat_minor": 1
}
