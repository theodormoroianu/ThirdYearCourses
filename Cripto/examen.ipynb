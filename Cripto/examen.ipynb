{
 "cells": [
  {
   "cell_type": "markdown",
   "metadata": {},
   "source": [
    "# Examen Securitate"
   ]
  },
  {
   "cell_type": "markdown",
   "metadata": {},
   "source": [
    "## GCD"
   ]
  },
  {
   "cell_type": "code",
   "execution_count": 3,
   "metadata": {},
   "outputs": [],
   "source": [
    "from typing import List, Tuple\n",
    "\n",
    "def gcd(a: int, b: int, verbose=True, offset=''):\n",
    "    \"\"\"\n",
    "        Euclid GCD CMMDC\n",
    "    \"\"\"\n",
    "    if a == 0:\n",
    "        if verbose:\n",
    "            print(f\"{offset}gcd({a}, {b}) = {b}\")\n",
    "        return b\n",
    "    if verbose:\n",
    "        print(f\"{offset}gcd({a}, {b}) = \", end='')\n",
    "    d = gcd(b % a, a, verbose, offset)\n",
    "    return d\n",
    "\n",
    "assert gcd(12, 8, False) == gcd(8, 12, False) == 4"
   ]
  },
  {
   "cell_type": "markdown",
   "metadata": {},
   "source": [
    "## GCD Extins"
   ]
  },
  {
   "cell_type": "code",
   "execution_count": 4,
   "metadata": {},
   "outputs": [],
   "source": [
    "def extended_gcd(a: int, b: int, verbose=True, offset=''):\n",
    "    \"\"\"\n",
    "        return (d, coef_a, coef_b)\n",
    "        CMMDC extins Euclid extins\n",
    "    \"\"\"\n",
    "    if a == 0:\n",
    "        if verbose:\n",
    "            print(f\"{offset}0*0 + 1*{b} = {b}\")\n",
    "        return (b, 0, 1)\n",
    "    \n",
    "    d, form_cb, form_ca = extended_gcd(b % a, a, verbose, offset)\n",
    "    # d = form_cb * (b % a) + form_ca * a\n",
    "    # d = form_cb * (b - a * (b//a)) + form_ca * a\n",
    "    #   = form_cb * b + (form_ca - (b//a) * form_cb) * a\n",
    "\n",
    "    cb = form_cb\n",
    "    ca = form_ca - (b // a) * form_cb\n",
    "\n",
    "    if verbose:\n",
    "        print(f\"{offset}{d} = {form_cb} * ({b}%{a}) + {form_ca} * {a} =>\")\n",
    "        print(f\"{offset}{d} = {ca} * {a} + {cb} * {b}\")\n",
    "\n",
    "    return d, ca, cb\n",
    "\n",
    "d, c_a, c_b = extended_gcd(12, 8, False)\n",
    "assert d == c_a * 12 + c_b * 8 and d == 4\n",
    "\n",
    "# extended_gcd(67, 1000)"
   ]
  },
  {
   "cell_type": "markdown",
   "metadata": {},
   "source": [
    "## Invers Modular"
   ]
  },
  {
   "cell_type": "code",
   "execution_count": 5,
   "metadata": {},
   "outputs": [],
   "source": [
    "def invers_modular(element: int, modul: int, verbose=True, offset = ''):\n",
    "    \"\"\"\n",
    "        modular inverse\n",
    "    \"\"\"\n",
    "    if verbose:\n",
    "        print(f\"{offset}Calculam inversul lui {element} fata de {modul}.\")\n",
    "        print(f\"{offset}Calculam coeficientii x si y a.i. x * {element} + y * {modul} = 1 cu euclid:\")\n",
    "\n",
    "    d, x, y = extended_gcd(element, modul, verbose, '    ' + offset)\n",
    "\n",
    "    if d != 1:\n",
    "        print(f\"{element} nu este prim cu {modul}!\")\n",
    "        raise Exception()\n",
    "\n",
    "    if verbose:\n",
    "        print(f\"{offset}{x}*{element} + {y}*{modul} = 1, deci {x} este inversul lui {element}.\")\n",
    "\n",
    "    return x\n",
    "\n",
    "assert invers_modular(5, 7, False) == 3\n",
    "# invers_modular(5, 7)\n"
   ]
  },
  {
   "cell_type": "markdown",
   "metadata": {},
   "source": [
    "## Chinese Reminder Theorem"
   ]
  },
  {
   "cell_type": "code",
   "execution_count": 6,
   "metadata": {},
   "outputs": [],
   "source": [
    "def crt(reminders: List[int], modulus: List[int], verbose=True, offset=''):\n",
    "    \"\"\"\n",
    "    Chinese reminder theorem\n",
    "    Lema chineza a resturilor\n",
    "    \"\"\"\n",
    "    if verbose:\n",
    "        print(f\"{offset}Calculam CRT un X, a.i.:\")\n",
    "        for i in range(len(reminders)):\n",
    "            print(f\"{offset}X % {modulus[i]} = {reminders[i]}\")\n",
    "    \n",
    "    prod = 1\n",
    "    for i in modulus:\n",
    "        prod *= i\n",
    "    \n",
    "    if verbose:\n",
    "        print(f\"{offset}Produlus modulelor este {prod}\")\n",
    "\n",
    "    inverses = []\n",
    "    for i in modulus:\n",
    "        if verbose:\n",
    "            print(f\"{offset}Calculam inversul lui {prod} / {i} = {prod // i} modulo {i}:\")\n",
    "        invs = invers_modular(prod // i, i, verbose, '    ' + offset)\n",
    "        inverses.append(invs)\n",
    "\n",
    "    result = 0\n",
    "    if verbose:\n",
    "        print(f\"{offset}X = \")\n",
    "        for i in range(len(modulus)):\n",
    "            print(f\"{offset}   ({prod}/{modulus[i]}) * ({prod}/{modulus[i]})^-1 (mod {modulus[i]}) * {reminders[i]}\" + (\" +\" if i + 1 != len(reminders) else ''))\n",
    "    \n",
    "    for i in range(len(modulus)):\n",
    "        result += (prod // modulus[i]) * inverses[i] * reminders[i]\n",
    "\n",
    "    result %= prod\n",
    "\n",
    "    if verbose:\n",
    "        print(f\"{offset}X = {result}\")\n",
    "    \n",
    "    return result\n",
    "\n",
    "x = crt([1, 2, 3, 4, 0], [2, 5, 7, 11*13, 666013], False)\n",
    "assert x % 2 == 1\n",
    "assert x % 5 == 2\n",
    "assert x % 7 == 3\n",
    "assert x % (11*13) == 4\n",
    "assert x % 666013 == 0"
   ]
  },
  {
   "cell_type": "markdown",
   "metadata": {},
   "source": [
    "## Chipolla Algorithm"
   ]
  },
  {
   "cell_type": "code",
   "execution_count": 9,
   "metadata": {},
   "outputs": [],
   "source": [
    "\n",
    "def cipolla(n: int, p: int, verbose=True, offset=''):\n",
    "    \"\"\"\n",
    "        Cipolla algorithm\n",
    "        square root sqrt radacina patrata in Fp\n",
    "    \"\"\"\n",
    "\n",
    "    # cautam a a.i. a^2-n nu e rest patratic\n",
    "    squares = [i * i % p for i in range(p)]\n",
    "    a = 0\n",
    "    while (a * a - n + p) % p in squares:\n",
    "        a += 1\n",
    "    \n",
    "    if verbose:\n",
    "        print(f\"{offset}Folosim a={a}, care respecta {a}^2 - {n} ne rest patratic modulo {p}\")\n",
    "\n",
    "        print(f\"{offset}Notam cu w = sqrt({a}^2 - {n})\")\n",
    "\n",
    "    # salvam elementele in grupul F[w]:\n",
    "    # (s, t) -> s + t*w\n",
    "    # valoarea lui w^2\n",
    "    w_sq = (a*a - n + p) % p\n",
    "\n",
    "    if verbose:\n",
    "        print(f\"{offset}Stim ca w^2 = {w_sq}\")\n",
    "    def multiply(s: Tuple[int, int], t: Tuple[int, int]):\n",
    "        rez = (s[0]*t[0] + s[1]*t[1]*w_sq, s[0]*t[1] + s[1]*t[0])\n",
    "        rez = (rez[0]%p, rez[1]%p)\n",
    "        return rez\n",
    "    \n",
    "    if verbose:\n",
    "        print(f\"{offset}Calculam (w + a)^(p + 1)/2 = (w + {a})^{(p + 1)//2}\")\n",
    "\n",
    "    act = (1, 0)\n",
    "\n",
    "    for i in range(1, (p + 1) // 2 + 1):\n",
    "        act = multiply(act, (a, 1))\n",
    "\n",
    "        if verbose:\n",
    "            print(f\"{offset}    (w + a)^{i} = {act[0]} + {act[1]}*w\")\n",
    "\n",
    "    assert(act[1] == 0)\n",
    "\n",
    "    if verbose:\n",
    "        print(f\"{offset}sqrt({n}) = {act[0]} (mod {p})\")\n",
    "    return act[0]\n",
    "\n",
    "inv = cipolla(1236, 666013, False)\n",
    "assert inv * inv % 666013 == 1236\n",
    "# cipolla(15, 17)\n"
   ]
  },
  {
   "cell_type": "markdown",
   "metadata": {},
   "source": [
    "## Elgamal\n",
    "\n",
    "Grup `G`, generator `g`.\n",
    "\n",
    "Cheie secreta: `X`\n",
    "Cheie publica: `h = g^x`\n",
    "\n",
    "Encriptare:\n",
    " * Alegem `y` random.\n",
    " * `c1 = g^y`\n",
    " * `c2 = h^y * m` \n",
    " * Mesaj criptat: `(c1, c2) = (g^y, h^y * m)`\n",
    "\n",
    "Decriptare:\n",
    " * Primim `(c1, c2) = (g^y, h^y * m) = (g^y, g^xy * m)`\n",
    " * `m = c2 * (c1^x)^-1`\n",
    "\n",
    "\n",
    "Caz aditiv:\n",
    "Daca consideram grupul `G` ca fiind `(Zp, +)`, atunci problema logaritmului\n",
    "discret se poate rezolva cu euclid extins:\n",
    "    Cautam `x` a.i. `g*x = h`\n",
    "            `<=> x = h * g^-1`\n",
    "Daca il stim pe `x` putem decripta mesajul. "
   ]
  },
  {
   "cell_type": "markdown",
   "metadata": {},
   "source": [
    "## Deffie-Hellman\n",
    "\n",
    "keyword: logaritm discret schimb de chei DLP\n",
    "\n",
    "Grup `G`, generator `g`.\n",
    "\n",
    "Alice:\n",
    " * Alege `a` random.\n",
    " * Transmite lui bob `ca = g^a`.\n",
    "\n",
    "Bob:\n",
    " * Alege `b` random.\n",
    " * transmite lui Alice `cb = g^b`.\n",
    "\n",
    "Alice:\n",
    " * Alege secretul `c = cb^a`.\n",
    "\n",
    "Bob:\n",
    " * Alege acelasi secret `c = ca^b`."
   ]
  },
  {
   "cell_type": "markdown",
   "metadata": {},
   "source": [
    "### RSA\n",
    "\n",
    "Cu phi si cu lambda"
   ]
  },
  {
   "cell_type": "markdown",
   "metadata": {},
   "source": []
  }
 ],
 "metadata": {
  "interpreter": {
   "hash": "767d51c1340bd893661ea55ea3124f6de3c7a262a8b4abca0554b478b1e2ff90"
  },
  "kernelspec": {
   "display_name": "Python 3.10.3 64-bit",
   "language": "python",
   "name": "python3"
  },
  "language_info": {
   "codemirror_mode": {
    "name": "ipython",
    "version": 3
   },
   "file_extension": ".py",
   "mimetype": "text/x-python",
   "name": "python",
   "nbconvert_exporter": "python",
   "pygments_lexer": "ipython3",
   "version": "3.10.3"
  },
  "orig_nbformat": 4
 },
 "nbformat": 4,
 "nbformat_minor": 2
}
