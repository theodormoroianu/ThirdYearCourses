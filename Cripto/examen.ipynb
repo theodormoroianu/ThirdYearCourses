{
 "cells": [
  {
   "cell_type": "markdown",
   "metadata": {},
   "source": [
    "# Examen Securitate"
   ]
  },
  {
   "cell_type": "markdown",
   "metadata": {},
   "source": [
    "## GCD"
   ]
  },
  {
   "cell_type": "code",
   "execution_count": 18,
   "metadata": {},
   "outputs": [],
   "source": [
    "from typing import List, Tuple\n",
    "\n",
    "def gcd(a: int, b: int, verbose=True, offset=''):\n",
    "    \"\"\"\n",
    "        Euclid GCD CMMDC\n",
    "    \"\"\"\n",
    "    if a == 0:\n",
    "        if verbose:\n",
    "            print(f\"{offset}gcd({a}, {b}) = {b}\")\n",
    "        return b\n",
    "    if verbose:\n",
    "        print(f\"{offset}gcd({a}, {b}) = \", end='')\n",
    "    d = gcd(b % a, a, verbose, offset)\n",
    "    return d\n",
    "\n",
    "assert gcd(12, 8, False) == gcd(8, 12, False) == 4\n",
    "\n",
    "def lcm(a: int, b: int, verbose=True, offset=''):\n",
    "    if verbose:\n",
    "        print(f\"{offset}lcm({a}, {b}) = {a}*{b}/gcd({a}, {b}) = {a}*{b} / {gcd(a, b, False)} = {a * b // gcd(a, b, False)}\")\n",
    "    return a * b // gcd(a, b, False)\n"
   ]
  },
  {
   "cell_type": "markdown",
   "metadata": {},
   "source": [
    "## GCD Extins"
   ]
  },
  {
   "cell_type": "code",
   "execution_count": 19,
   "metadata": {},
   "outputs": [],
   "source": [
    "def extended_gcd(a: int, b: int, verbose=True, offset=''):\n",
    "    \"\"\"\n",
    "        return (d, coef_a, coef_b)\n",
    "        CMMDC extins Euclid extins\n",
    "    \"\"\"\n",
    "    if a == 0:\n",
    "        if verbose:\n",
    "            print(f\"{offset}0*0 + 1*{b} = {b}\")\n",
    "        return (b, 0, 1)\n",
    "    \n",
    "    d, form_cb, form_ca = extended_gcd(b % a, a, verbose, offset)\n",
    "    # d = form_cb * (b % a) + form_ca * a\n",
    "    # d = form_cb * (b - a * (b//a)) + form_ca * a\n",
    "    #   = form_cb * b + (form_ca - (b//a) * form_cb) * a\n",
    "\n",
    "    cb = form_cb\n",
    "    ca = form_ca - (b // a) * form_cb\n",
    "\n",
    "    if verbose:\n",
    "        print(f\"{offset}{d} = {form_cb} * ({b}%{a}) + {form_ca} * {a} =>\")\n",
    "        print(f\"{offset}{d} = {ca} * {a} + {cb} * {b}\")\n",
    "\n",
    "    return d, ca, cb\n",
    "\n",
    "d, c_a, c_b = extended_gcd(12, 8, False)\n",
    "assert d == c_a * 12 + c_b * 8 and d == 4\n",
    "\n",
    "# extended_gcd(67, 1000)"
   ]
  },
  {
   "cell_type": "markdown",
   "metadata": {},
   "source": [
    "## Invers Modular"
   ]
  },
  {
   "cell_type": "code",
   "execution_count": 20,
   "metadata": {},
   "outputs": [],
   "source": [
    "def invers_modular(element: int, modul: int, verbose=True, offset = ''):\n",
    "    \"\"\"\n",
    "        modular inverse\n",
    "    \"\"\"\n",
    "    if verbose:\n",
    "        print(f\"{offset}Calculam inversul lui {element} fata de {modul}.\")\n",
    "        print(f\"{offset}Calculam coeficientii x si y a.i. x * {element} + y * {modul} = 1 cu euclid:\")\n",
    "\n",
    "    d, x, y = extended_gcd(element, modul, verbose, '    ' + offset)\n",
    "\n",
    "    if d != 1:\n",
    "        print(f\"{element} nu este prim cu {modul}!\")\n",
    "        raise Exception()\n",
    "\n",
    "    if verbose:\n",
    "        print(f\"{offset}{x}*{element} + {y}*{modul} = 1, deci {x} este inversul lui {element}.\")\n",
    "\n",
    "    return x\n",
    "\n",
    "assert invers_modular(5, 7, False) == 3\n",
    "# invers_modular(5, 7)\n"
   ]
  },
  {
   "cell_type": "markdown",
   "metadata": {},
   "source": [
    "## Fast Exponentiation"
   ]
  },
  {
   "cell_type": "code",
   "execution_count": 21,
   "metadata": {},
   "outputs": [
    {
     "name": "stdout",
     "output_type": "stream",
     "text": [
      "Calculam 3^10 (mod10)\n",
      "3^1 = 3\n",
      "3^2 = 9\n",
      "3^4 = 1\n",
      "3^8 = 1\n",
      "3^16 = 1\n",
      "3^32 = 1\n",
      "45 = 1 + 4 + 8 + 32\n",
      "3^45 = 3^1 * 3^4 * 3^8 * 3^32\n",
      "3^45 = 3 * 1 * 1 * 1\n",
      "3^45 = 3\n"
     ]
    },
    {
     "data": {
      "text/plain": [
       "3"
      ]
     },
     "execution_count": 21,
     "metadata": {},
     "output_type": "execute_result"
    }
   ],
   "source": [
    "def fast_pow(n, power, modulus=-1, verbose=True, offset=''):\n",
    "    \"\"\"\n",
    "    Fast exponentiation algorithm\n",
    "    pow put lgput exp\n",
    "    modulus=-1 if no modulus\n",
    "    \"\"\"\n",
    "\n",
    "    ans = n**power\n",
    "    if modulus != -1:\n",
    "        ans %= modulus\n",
    "    \n",
    "    if ans < 0 and modulus != -1:\n",
    "        ans += modulus\n",
    "\n",
    "    if verbose:\n",
    "        print(f\"{offset}Calculam {n}^{modulus}{'' if modulus == -1 else ' (mod' + str(modulus) + ')'}\")\n",
    "        p_act = 1\n",
    "        while p_act <= power:\n",
    "            r = n ** p_act\n",
    "            if modulus != -1:\n",
    "                r %= modulus\n",
    "            print(f\"{offset}{n}^{p_act} = {r}\")\n",
    "            p_act *= 2\n",
    "        \n",
    "        print(\n",
    "            f\"{offset}{power} = \" +\n",
    "            \" + \".join([str(2**i) for i in range(1000) if ((power >> i) & 1) != 0])\n",
    "        )\n",
    "        print(\n",
    "            f\"{offset}{n}^{power} = \" +\n",
    "            \" * \".join([f\"{n}^{2**i}\" for i in range(1000) if ((power >> i) & 1) != 0])\n",
    "        )\n",
    "        print(\n",
    "            f\"{offset}{n}^{power} = \" +\n",
    "            \" * \".join([str(n**(2**i) if modulus == -1 else n**(2**i) % modulus) for i in range(1000) if ((power >> i) & 1) != 0])\n",
    "        )\n",
    "\n",
    "        print(f\"{offset}{n}^{power} = {ans}\")\n",
    "    \n",
    "    return ans\n",
    "\n",
    "put = fast_pow\n",
    "\n",
    "assert fast_pow(123, 234, -1, False) == 123 ** 234\n",
    "assert fast_pow(12, 44, 37, False) == 12**44 % 37\n",
    "\n",
    "fast_pow(3, 45, 10)"
   ]
  },
  {
   "cell_type": "markdown",
   "metadata": {},
   "source": [
    "## Chinese Reminder Theorem"
   ]
  },
  {
   "cell_type": "code",
   "execution_count": 22,
   "metadata": {},
   "outputs": [],
   "source": [
    "def crt(reminders: List[int], modulus: List[int], verbose=True, offset=''):\n",
    "    \"\"\"\n",
    "    Chinese reminder theorem\n",
    "    Lema chineza a resturilor\n",
    "    \"\"\"\n",
    "    if verbose:\n",
    "        print(f\"{offset}Calculam CRT un X, a.i.:\")\n",
    "        for i in range(len(reminders)):\n",
    "            print(f\"{offset}X % {modulus[i]} = {reminders[i]}\")\n",
    "    \n",
    "    prod = 1\n",
    "    for i in modulus:\n",
    "        prod *= i\n",
    "    \n",
    "    if verbose:\n",
    "        print(f\"{offset}Produlus modulelor este {prod}\")\n",
    "\n",
    "    inverses = []\n",
    "    for i in modulus:\n",
    "        if verbose:\n",
    "            print(f\"{offset}Calculam inversul lui {prod} / {i} = {prod // i} modulo {i}:\")\n",
    "        invs = invers_modular(prod // i, i, verbose, '    ' + offset)\n",
    "        inverses.append(invs)\n",
    "\n",
    "    result = 0\n",
    "    if verbose:\n",
    "        print(f\"{offset}X = \")\n",
    "        for i in range(len(modulus)):\n",
    "            print(f\"{offset}   ({prod}/{modulus[i]}) * ({prod}/{modulus[i]})^-1 (mod {modulus[i]}) * {reminders[i]}\" + (\" +\" if i + 1 != len(reminders) else ''))\n",
    "    \n",
    "    for i in range(len(modulus)):\n",
    "        result += (prod // modulus[i]) * inverses[i] * reminders[i]\n",
    "\n",
    "    result %= prod\n",
    "\n",
    "    if verbose:\n",
    "        print(f\"{offset}X = {result}\")\n",
    "    \n",
    "    return result\n",
    "\n",
    "x = crt([1, 2, 3, 4, 0], [2, 5, 7, 11*13, 666013], False)\n",
    "assert x % 2 == 1\n",
    "assert x % 5 == 2\n",
    "assert x % 7 == 3\n",
    "assert x % (11*13) == 4\n",
    "assert x % 666013 == 0"
   ]
  },
  {
   "cell_type": "markdown",
   "metadata": {},
   "source": [
    "## Linear Feedback Shift Registers LFST"
   ]
  },
  {
   "cell_type": "code",
   "execution_count": 23,
   "metadata": {},
   "outputs": [],
   "source": [
    "def lfsr(s_init, coefs, l, verbose=True, offset=''):\n",
    "    \"\"\"\n",
    "        lfsr shift registers linear\n",
    "        s[i] = coef[0]*s[i-1] + coef[1]*s[i-2] + ... + coef[n-1]*s[i-n]\n",
    "    \"\"\"\n",
    "    rez = s_init\n",
    "    while len(rez) < l:\n",
    "        c = 0\n",
    "        for i in range(len(coefs)):\n",
    "            c ^= rez[-i] * coefs[i]\n",
    "        rez.append(c)\n",
    "    return rez\n",
    "# TODO: Test"
   ]
  },
  {
   "cell_type": "markdown",
   "metadata": {},
   "source": [
    "## Chipolla Algorithm"
   ]
  },
  {
   "cell_type": "code",
   "execution_count": 24,
   "metadata": {},
   "outputs": [
    {
     "name": "stdout",
     "output_type": "stream",
     "text": [
      "Folosim a=0, care respecta 0^2 - 8 nu e rest patratic modulo 23\n",
      "Notam cu w = sqrt(0^2 - 8)\n",
      "Stim ca w^2 = 15\n",
      "Calculam (w + a)^(p + 1)/2 = (w + 0)^12\n",
      "    (w + a)^1 = 0 + 1*w\n",
      "    (w + a)^2 = 15 + 0*w\n",
      "    (w + a)^4 = 18 + 0*w\n",
      "    (w + a)^8 = 2 + 0*w\n",
      "(w + a)^12 = (w+a)^4 * (w+a)^8 = 13\n",
      "sqrt(8) = 13 (mod 23)\n"
     ]
    },
    {
     "data": {
      "text/plain": [
       "13"
      ]
     },
     "execution_count": 24,
     "metadata": {},
     "output_type": "execute_result"
    }
   ],
   "source": [
    "\n",
    "def cipolla(n: int, p: int, verbose=True, offset=''):\n",
    "    \"\"\"\n",
    "        Cipolla algorithm\n",
    "        square root sqrt radacina patrata in Fp\n",
    "        P ESTE PRIM\n",
    "    \"\"\"\n",
    "\n",
    "    # cautam a a.i. a^2-n nu e rest patratic\n",
    "    squares = [i * i % p for i in range(p)]\n",
    "    a = 0\n",
    "    while (a * a - n + p) % p in squares:\n",
    "        a += 1\n",
    "    \n",
    "    if verbose:\n",
    "        print(f\"{offset}Folosim a={a}, care respecta {a}^2 - {n} nu e rest patratic modulo {p}\")\n",
    "\n",
    "        print(f\"{offset}Notam cu w = sqrt({a}^2 - {n})\")\n",
    "\n",
    "    # salvam elementele in grupul F[w]:\n",
    "    # (s, t) -> s + t*w\n",
    "    # valoarea lui w^2\n",
    "    w_sq = (a*a - n + p) % p\n",
    "\n",
    "    if verbose:\n",
    "        print(f\"{offset}Stim ca w^2 = {w_sq}\")\n",
    "    def multiply(s: Tuple[int, int], t: Tuple[int, int]):\n",
    "        rez = (s[0]*t[0] + s[1]*t[1]*w_sq, s[0]*t[1] + s[1]*t[0])\n",
    "        rez = (rez[0]%p, rez[1]%p)\n",
    "        return rez\n",
    "    \n",
    "    if verbose:\n",
    "        print(f\"{offset}Calculam (w + a)^(p + 1)/2 = (w + {a})^{(p + 1)//2}\")\n",
    "\n",
    "    act = (1, 0)\n",
    "    put = (p + 1) // 2\n",
    "\n",
    "    for i in range(1, put + 1):\n",
    "        act = multiply(act, (a, 1))\n",
    "\n",
    "        if verbose and (i & -i) == i:\n",
    "            print(f\"{offset}    (w + a)^{i} = {act[0]} + {act[1]}*w\")\n",
    "\n",
    "    assert(act[1] == 0)\n",
    "    if verbose:\n",
    "        print(\n",
    "            f\"{offset}(w + a)^{put} = \" +\n",
    "            \" * \".join([f\"(w+a)^{i}\" for i in range(1, put + 1) if (i & -i) == i and (i & put) != 0]) +\n",
    "            f\" = {act[0]}\"\n",
    "        )\n",
    "\n",
    "    if verbose:\n",
    "        print(f\"{offset}sqrt({n}) = {act[0]} (mod {p})\")\n",
    "\n",
    "    assert act[0] ** 2 % p == n % p\n",
    "    return act[0]\n",
    "\n",
    "inv = cipolla(1236, 666013, False)\n",
    "assert inv * inv % 666013 == 1236\n",
    "\n",
    "cipolla(8, 23)\n"
   ]
  },
  {
   "cell_type": "markdown",
   "metadata": {},
   "source": [
    "## Elgamal\n",
    "\n",
    "Grup `G`, generator `g`.\n",
    "\n",
    "Cheie secreta: `X`\n",
    "Cheie publica: `h = g^x`\n",
    "\n",
    "Encriptare:\n",
    " * Alegem `y` random.\n",
    " * `c1 = g^y`\n",
    " * `c2 = h^y * m` \n",
    " * Mesaj criptat: `(c1, c2) = (g^y, h^y * m)`\n",
    "\n",
    "Decriptare:\n",
    " * Primim `(c1, c2) = (g^y, h^y * m) = (g^y, g^xy * m)`\n",
    " * `m = c2 * (c1^x)^-1`\n",
    "\n",
    "\n",
    "Caz aditiv:\n",
    "Daca consideram grupul `G` ca fiind `(Zp, +)`, atunci problema logaritmului\n",
    "discret se poate rezolva cu euclid extins:\n",
    "    Cautam `x` a.i. `g*x = h`\n",
    "            `<=> x = h * g^-1`\n",
    "Daca il stim pe `x` putem decripta mesajul. "
   ]
  },
  {
   "cell_type": "markdown",
   "metadata": {},
   "source": [
    "## Deffie-Hellman\n",
    "\n",
    "keyword: logaritm discret schimb de chei DLP\n",
    "\n",
    "Grup `G`, generator `g`.\n",
    "\n",
    "Alice:\n",
    " * Alege `a` random.\n",
    " * Transmite lui bob `ca = g^a`.\n",
    "\n",
    "Bob:\n",
    " * Alege `b` random.\n",
    " * transmite lui Alice `cb = g^b`.\n",
    "\n",
    "Alice:\n",
    " * Alege secretul `c = cb^a`.\n",
    "\n",
    "Bob:\n",
    " * Alege acelasi secret `c = ca^b`."
   ]
  },
  {
   "cell_type": "markdown",
   "metadata": {},
   "source": [
    "## Legendre / Rest Patratic / Is Square"
   ]
  },
  {
   "cell_type": "code",
   "execution_count": 25,
   "metadata": {},
   "outputs": [
    {
     "name": "stdout",
     "output_type": "stream",
     "text": [
      "Calculam 6^((31-1)/2) = 6^15:\n",
      "    Calculam 6^31 (mod31)\n",
      "    6^1 = 6\n",
      "    6^2 = 5\n",
      "    6^4 = 25\n",
      "    6^8 = 5\n",
      "    15 = 1 + 2 + 4 + 8\n",
      "    6^15 = 6^1 * 6^2 * 6^4 * 6^8\n",
      "    6^15 = 6 * 5 * 25 * 5\n",
      "    6^15 = 30\n",
      "Valoarea nu este 1, deci numarul NU ESTE un rest patratic\n"
     ]
    },
    {
     "data": {
      "text/plain": [
       "False"
      ]
     },
     "execution_count": 25,
     "metadata": {},
     "output_type": "execute_result"
    }
   ],
   "source": [
    "def legendre_is_residue(rest, modul, verbose=True, offset='') -> bool:\n",
    "    \"\"\"\n",
    "    Rest patratic, quadratic residue modul HAS TO BE PRIME!!!!\n",
    "    \"\"\"\n",
    "    if modul == 2:\n",
    "        if verbose:\n",
    "            print(f\"{offset}modulul este 2, deci {rest} este un rest patratic.\")\n",
    "        return True\n",
    "    if verbose:\n",
    "        print(f\"{offset}Calculam {rest}^(({modul}-1)/2) = {rest}^{(modul - 1) // 2}:\")\n",
    "        fast_pow(rest, (modul - 1) // 2, modul, True, \"    \")\n",
    "    \n",
    "    p = rest ** ((modul - 1) // 2) % modul\n",
    "\n",
    "    if verbose:\n",
    "        if p == 1:\n",
    "            print(f\"{offset}Valoarea este 1, deci numarul ESTE un rest patratic\")\n",
    "        else:\n",
    "            print(f\"{offset}Valoarea nu este 1, deci numarul NU ESTE un rest patratic\")\n",
    "    return p == 1\n",
    "\n",
    "assert legendre_is_residue(2, 7, False)\n",
    "assert not legendre_is_residue(3, 7, False)\n",
    "\n",
    "legendre_is_residue(6, 31)"
   ]
  },
  {
   "cell_type": "markdown",
   "metadata": {},
   "source": [
    "## PHI"
   ]
  },
  {
   "cell_type": "code",
   "execution_count": 26,
   "metadata": {},
   "outputs": [
    {
     "name": "stdout",
     "output_type": "stream",
     "text": [
      "24 = 2^3 * 3^1\n",
      "Phi(24) = 1*2^2 * 2*3^0\n",
      "Phi(24) = 8\n"
     ]
    },
    {
     "data": {
      "text/plain": [
       "8"
      ]
     },
     "execution_count": 26,
     "metadata": {},
     "output_type": "execute_result"
    }
   ],
   "source": [
    "def phi(n, verbose=True, offset=''):\n",
    "    factors = []\n",
    "    n_copy = n\n",
    "    for i in range(2, n + 1):\n",
    "        p = 0\n",
    "        while n_copy % i == 0:\n",
    "            n_copy, p = n_copy // i, p + 1\n",
    "        if p > 0:\n",
    "            factors.append((i, p))\n",
    "    \n",
    "    ans = 1\n",
    "    for p, e in factors:\n",
    "        ans *= p**(e - 1) * (p - 1)\n",
    "\n",
    "    if verbose:\n",
    "        print(\n",
    "            f\"{offset}{n} = \" +\n",
    "            \" * \".join([f\"{i[0]}^{i[1]}\" for i in factors])\n",
    "        )\n",
    "        print(\n",
    "            f\"{offset}Phi({n}) = \" +\n",
    "            \" * \".join([f\"{i[0] - 1}*{i[0]}^{i[1] - 1}\" for i in factors])\n",
    "        )\n",
    "        print(f\"{offset}Phi({n}) = {ans}\")\n",
    "        \n",
    "    return ans\n",
    "\n",
    "decomp = phi\n",
    "\n",
    "assert phi(10, False) == 4\n",
    "phi(24)"
   ]
  },
  {
   "cell_type": "markdown",
   "metadata": {},
   "source": [
    "### RSA\n",
    "\n",
    "Cu phi si cu lambda"
   ]
  },
  {
   "cell_type": "code",
   "execution_count": 27,
   "metadata": {},
   "outputs": [
    {
     "name": "stdout",
     "output_type": "stream",
     "text": [
      "N = 5 * 7 = 35\n",
      "phi(35) = 24\n",
      "Am ales e = 5\n",
      "    Calculam inversul lui 5 fata de 24.\n",
      "    Calculam coeficientii x si y a.i. x * 5 + y * 24 = 1 cu euclid:\n",
      "        0*0 + 1*1 = 1\n",
      "        1 = 0 * (4%1) + 1 * 1 =>\n",
      "        1 = 1 * 1 + 0 * 4\n",
      "        1 = 1 * (5%4) + 0 * 4 =>\n",
      "        1 = -1 * 4 + 1 * 5\n",
      "        1 = -1 * (24%5) + 1 * 5 =>\n",
      "        1 = 5 * 5 + -1 * 24\n",
      "    5*5 + -1*24 = 1, deci 5 este inversul lui 5.\n",
      "Asadar, cheia publica este N=35, e=5, iar cheia privata este d=5\n"
     ]
    }
   ],
   "source": [
    "def rsa_setup(p, q, use_lambda=False, verbose=True, offset=''):\n",
    "    n = p * q\n",
    "    phi_or_lambda = (lcm(p - 1, q - 1, False) if use_lambda else (p - 1) * (q - 1))\n",
    "    e = 2\n",
    "\n",
    "    if verbose:\n",
    "        print(f\"N = {p} * {q} = {n}\")\n",
    "        fun_name = \"lambda\" if use_lambda else \"phi\"\n",
    "        print(f\"{fun_name}({n}) = {phi_or_lambda}\")\n",
    "\n",
    "    while gcd(e, phi_or_lambda, False) != 1:\n",
    "        e += 1\n",
    "\n",
    "    if verbose:\n",
    "        print(f\"Am ales e = {e}\")\n",
    "        \n",
    "    inv_e = invers_modular(e, phi_or_lambda, verbose, offset+'    ')\n",
    "\n",
    "    if verbose:\n",
    "        print(f\"Asadar, cheia publica este N={n}, e={e}, iar cheia privata este d={inv_e}\")\n",
    "rsa_setup(5, 7)"
   ]
  },
  {
   "cell_type": "markdown",
   "metadata": {},
   "source": [
    "Cand este un grup multiplicativ ciclic?"
   ]
  },
  {
   "cell_type": "markdown",
   "metadata": {},
   "source": []
  },
  {
   "cell_type": "code",
   "execution_count": 28,
   "metadata": {},
   "outputs": [
    {
     "name": "stdout",
     "output_type": "stream",
     "text": [
      "Calculam CRT un X, a.i.:\n",
      "X % 4 = 0\n",
      "X % 5 = 1\n",
      "X % 21 = 2\n",
      "Produlus modulelor este 420\n",
      "Calculam inversul lui 420 / 4 = 105 modulo 4:\n",
      "    Calculam inversul lui 105 fata de 4.\n",
      "    Calculam coeficientii x si y a.i. x * 105 + y * 4 = 1 cu euclid:\n",
      "        0*0 + 1*1 = 1\n",
      "        1 = 0 * (4%1) + 1 * 1 =>\n",
      "        1 = 1 * 1 + 0 * 4\n",
      "        1 = 1 * (105%4) + 0 * 4 =>\n",
      "        1 = -26 * 4 + 1 * 105\n",
      "        1 = -26 * (4%105) + 1 * 105 =>\n",
      "        1 = 1 * 105 + -26 * 4\n",
      "    1*105 + -26*4 = 1, deci 1 este inversul lui 105.\n",
      "Calculam inversul lui 420 / 5 = 84 modulo 5:\n",
      "    Calculam inversul lui 84 fata de 5.\n",
      "    Calculam coeficientii x si y a.i. x * 84 + y * 5 = 1 cu euclid:\n",
      "        0*0 + 1*1 = 1\n",
      "        1 = 0 * (4%1) + 1 * 1 =>\n",
      "        1 = 1 * 1 + 0 * 4\n",
      "        1 = 1 * (5%4) + 0 * 4 =>\n",
      "        1 = -1 * 4 + 1 * 5\n",
      "        1 = -1 * (84%5) + 1 * 5 =>\n",
      "        1 = 17 * 5 + -1 * 84\n",
      "        1 = 17 * (5%84) + -1 * 84 =>\n",
      "        1 = -1 * 84 + 17 * 5\n",
      "    -1*84 + 17*5 = 1, deci -1 este inversul lui 84.\n",
      "Calculam inversul lui 420 / 21 = 20 modulo 21:\n",
      "    Calculam inversul lui 20 fata de 21.\n",
      "    Calculam coeficientii x si y a.i. x * 20 + y * 21 = 1 cu euclid:\n",
      "        0*0 + 1*1 = 1\n",
      "        1 = 0 * (20%1) + 1 * 1 =>\n",
      "        1 = 1 * 1 + 0 * 20\n",
      "        1 = 1 * (21%20) + 0 * 20 =>\n",
      "        1 = -1 * 20 + 1 * 21\n",
      "    -1*20 + 1*21 = 1, deci -1 este inversul lui 20.\n",
      "X = \n",
      "   (420/4) * (420/4)^-1 (mod 4) * 0 +\n",
      "   (420/5) * (420/5)^-1 (mod 5) * 1 +\n",
      "   (420/21) * (420/21)^-1 (mod 21) * 2\n",
      "X = 296\n"
     ]
    },
    {
     "data": {
      "text/plain": [
       "296"
      ]
     },
     "execution_count": 28,
     "metadata": {},
     "output_type": "execute_result"
    }
   ],
   "source": [
    "crt([0, 1, 2], [4, 5, 21])"
   ]
  },
  {
   "cell_type": "markdown",
   "metadata": {},
   "source": [
    "### Intrebari:\n",
    " * Putem primi Shanks' algorithm?\n",
    " * "
   ]
  },
  {
   "cell_type": "code",
   "execution_count": null,
   "metadata": {},
   "outputs": [],
   "source": []
  }
 ],
 "metadata": {
  "interpreter": {
   "hash": "767d51c1340bd893661ea55ea3124f6de3c7a262a8b4abca0554b478b1e2ff90"
  },
  "kernelspec": {
   "display_name": "Python 3.10.3 64-bit",
   "language": "python",
   "name": "python3"
  },
  "language_info": {
   "codemirror_mode": {
    "name": "ipython",
    "version": 3
   },
   "file_extension": ".py",
   "mimetype": "text/x-python",
   "name": "python",
   "nbconvert_exporter": "python",
   "pygments_lexer": "ipython3",
   "version": "3.10.4"
  },
  "orig_nbformat": 4
 },
 "nbformat": 4,
 "nbformat_minor": 2
}
